{
  "nbformat": 4,
  "nbformat_minor": 0,
  "metadata": {
    "colab": {
      "name": "Credit_Card_Lead_Prediction.ipynb",
      "provenance": [],
      "collapsed_sections": []
    },
    "kernelspec": {
      "name": "python3",
      "display_name": "Python 3"
    },
    "language_info": {
      "name": "python"
    },
    "accelerator": "GPU"
  },
  "cells": [
    {
      "cell_type": "code",
      "metadata": {
        "id": "YUXZO3VjJQvr"
      },
      "source": [
        "import pandas as pd\n",
        "import numpy as np\n",
        "import matplotlib.pyplot as plt\n",
        "from mpl_toolkits.mplot3d import Axes3D\n",
        "import seaborn as sns\n",
        "import os\n",
        "import math\n",
        "import pickle"
      ],
      "execution_count": 1,
      "outputs": []
    },
    {
      "cell_type": "code",
      "metadata": {
        "colab": {
          "base_uri": "https://localhost:8080/"
        },
        "id": "ywGtdnJSJx-c",
        "outputId": "13a5a26d-dc03-4288-b4c8-02064b2a5e63"
      },
      "source": [
        "df = pd.read_csv('/content/train_s3TEQDk.csv')\n",
        "df.info()"
      ],
      "execution_count": 80,
      "outputs": [
        {
          "output_type": "stream",
          "text": [
            "<class 'pandas.core.frame.DataFrame'>\n",
            "RangeIndex: 245725 entries, 0 to 245724\n",
            "Data columns (total 11 columns):\n",
            " #   Column               Non-Null Count   Dtype \n",
            "---  ------               --------------   ----- \n",
            " 0   ID                   245725 non-null  object\n",
            " 1   Gender               245725 non-null  object\n",
            " 2   Age                  245725 non-null  int64 \n",
            " 3   Region_Code          245725 non-null  object\n",
            " 4   Occupation           245725 non-null  object\n",
            " 5   Channel_Code         245725 non-null  object\n",
            " 6   Vintage              245725 non-null  int64 \n",
            " 7   Credit_Product       216400 non-null  object\n",
            " 8   Avg_Account_Balance  245725 non-null  int64 \n",
            " 9   Is_Active            245725 non-null  object\n",
            " 10  Is_Lead              245725 non-null  int64 \n",
            "dtypes: int64(4), object(7)\n",
            "memory usage: 20.6+ MB\n"
          ],
          "name": "stdout"
        }
      ]
    },
    {
      "cell_type": "markdown",
      "metadata": {
        "id": "D8XV4rcDL7qS"
      },
      "source": [
        "Train Data\n",
        "\n",
        "ID : Unique Identifier for a row\n",
        "\n",
        "Gender : Gender of the Customer\n",
        "\n",
        "Age : Age of the Customer (in Years)\n",
        "\n",
        "Region_Code : Code of the Region for the customers\n",
        "\n",
        "Occupation : Occupation Type for the customer\n",
        "\n",
        "Channel_Code : Acquisition Channel Code for the Customer  (Encoded)\n",
        "\n",
        "Vintage : Vintage for the Customer (In Months)\n",
        "\n",
        "Credit_Product : If the Customer has any active credit product (Home loan,Personal loan, Credit Card etc.)\n",
        "\n",
        "Avg_Account_Balance : Average Account Balance for the Customer in last 12 Months\n",
        "\n",
        "Is_Active : If the Customer is Active in last 3 Months\n",
        "\n",
        "Is_Lead(Target) : If the Customer is interested for the Credit Card\n",
        "                  <br>0 : Customer is not interested<br>\n",
        "                  1 : Customer is interested"
      ]
    },
    {
      "cell_type": "code",
      "metadata": {
        "id": "uVq0U8K8lcqh"
      },
      "source": [
        "df1 = df.copy()"
      ],
      "execution_count": 81,
      "outputs": []
    },
    {
      "cell_type": "code",
      "metadata": {
        "colab": {
          "base_uri": "https://localhost:8080/",
          "height": 204
        },
        "id": "oPS-HdBgKdjT",
        "outputId": "a51b5040-e8bc-4cfd-c676-b867d5763c40"
      },
      "source": [
        "df.head()"
      ],
      "execution_count": 16,
      "outputs": [
        {
          "output_type": "execute_result",
          "data": {
            "text/html": [
              "<div>\n",
              "<style scoped>\n",
              "    .dataframe tbody tr th:only-of-type {\n",
              "        vertical-align: middle;\n",
              "    }\n",
              "\n",
              "    .dataframe tbody tr th {\n",
              "        vertical-align: top;\n",
              "    }\n",
              "\n",
              "    .dataframe thead th {\n",
              "        text-align: right;\n",
              "    }\n",
              "</style>\n",
              "<table border=\"1\" class=\"dataframe\">\n",
              "  <thead>\n",
              "    <tr style=\"text-align: right;\">\n",
              "      <th></th>\n",
              "      <th>ID</th>\n",
              "      <th>Gender</th>\n",
              "      <th>Age</th>\n",
              "      <th>Region_Code</th>\n",
              "      <th>Occupation</th>\n",
              "      <th>Channel_Code</th>\n",
              "      <th>Vintage</th>\n",
              "      <th>Credit_Product</th>\n",
              "      <th>Avg_Account_Balance</th>\n",
              "      <th>Is_Active</th>\n",
              "      <th>Is_Lead</th>\n",
              "    </tr>\n",
              "  </thead>\n",
              "  <tbody>\n",
              "    <tr>\n",
              "      <th>0</th>\n",
              "      <td>NNVBBKZB</td>\n",
              "      <td>Female</td>\n",
              "      <td>73</td>\n",
              "      <td>RG268</td>\n",
              "      <td>Other</td>\n",
              "      <td>X3</td>\n",
              "      <td>43</td>\n",
              "      <td>No</td>\n",
              "      <td>1045696</td>\n",
              "      <td>No</td>\n",
              "      <td>0</td>\n",
              "    </tr>\n",
              "    <tr>\n",
              "      <th>1</th>\n",
              "      <td>IDD62UNG</td>\n",
              "      <td>Female</td>\n",
              "      <td>30</td>\n",
              "      <td>RG277</td>\n",
              "      <td>Salaried</td>\n",
              "      <td>X1</td>\n",
              "      <td>32</td>\n",
              "      <td>No</td>\n",
              "      <td>581988</td>\n",
              "      <td>No</td>\n",
              "      <td>0</td>\n",
              "    </tr>\n",
              "    <tr>\n",
              "      <th>2</th>\n",
              "      <td>HD3DSEMC</td>\n",
              "      <td>Female</td>\n",
              "      <td>56</td>\n",
              "      <td>RG268</td>\n",
              "      <td>Self_Employed</td>\n",
              "      <td>X3</td>\n",
              "      <td>26</td>\n",
              "      <td>No</td>\n",
              "      <td>1484315</td>\n",
              "      <td>Yes</td>\n",
              "      <td>0</td>\n",
              "    </tr>\n",
              "    <tr>\n",
              "      <th>3</th>\n",
              "      <td>BF3NC7KV</td>\n",
              "      <td>Male</td>\n",
              "      <td>34</td>\n",
              "      <td>RG270</td>\n",
              "      <td>Salaried</td>\n",
              "      <td>X1</td>\n",
              "      <td>19</td>\n",
              "      <td>No</td>\n",
              "      <td>470454</td>\n",
              "      <td>No</td>\n",
              "      <td>0</td>\n",
              "    </tr>\n",
              "    <tr>\n",
              "      <th>4</th>\n",
              "      <td>TEASRWXV</td>\n",
              "      <td>Female</td>\n",
              "      <td>30</td>\n",
              "      <td>RG282</td>\n",
              "      <td>Salaried</td>\n",
              "      <td>X1</td>\n",
              "      <td>33</td>\n",
              "      <td>No</td>\n",
              "      <td>886787</td>\n",
              "      <td>No</td>\n",
              "      <td>0</td>\n",
              "    </tr>\n",
              "  </tbody>\n",
              "</table>\n",
              "</div>"
            ],
            "text/plain": [
              "         ID  Gender  Age  ... Avg_Account_Balance Is_Active Is_Lead\n",
              "0  NNVBBKZB  Female   73  ...             1045696        No       0\n",
              "1  IDD62UNG  Female   30  ...              581988        No       0\n",
              "2  HD3DSEMC  Female   56  ...             1484315       Yes       0\n",
              "3  BF3NC7KV    Male   34  ...              470454        No       0\n",
              "4  TEASRWXV  Female   30  ...              886787        No       0\n",
              "\n",
              "[5 rows x 11 columns]"
            ]
          },
          "metadata": {
            "tags": []
          },
          "execution_count": 16
        }
      ]
    },
    {
      "cell_type": "code",
      "metadata": {
        "colab": {
          "base_uri": "https://localhost:8080/"
        },
        "id": "LYFTSuucIFW0",
        "outputId": "c5d9a4f7-28ef-4abc-c941-901ebd3bc548"
      },
      "source": [
        "df.info()"
      ],
      "execution_count": 4,
      "outputs": [
        {
          "output_type": "stream",
          "text": [
            "<class 'pandas.core.frame.DataFrame'>\n",
            "RangeIndex: 245725 entries, 0 to 245724\n",
            "Data columns (total 11 columns):\n",
            " #   Column               Non-Null Count   Dtype \n",
            "---  ------               --------------   ----- \n",
            " 0   ID                   245725 non-null  object\n",
            " 1   Gender               245725 non-null  object\n",
            " 2   Age                  245725 non-null  int64 \n",
            " 3   Region_Code          245725 non-null  object\n",
            " 4   Occupation           245725 non-null  object\n",
            " 5   Channel_Code         245725 non-null  object\n",
            " 6   Vintage              245725 non-null  int64 \n",
            " 7   Credit_Product       216400 non-null  object\n",
            " 8   Avg_Account_Balance  245725 non-null  int64 \n",
            " 9   Is_Active            245725 non-null  object\n",
            " 10  Is_Lead              245725 non-null  int64 \n",
            "dtypes: int64(4), object(7)\n",
            "memory usage: 20.6+ MB\n"
          ],
          "name": "stdout"
        }
      ]
    },
    {
      "cell_type": "markdown",
      "metadata": {
        "id": "TlhKwf3BIV0C"
      },
      "source": [
        "<h1>VECTORIZATION"
      ]
    },
    {
      "cell_type": "code",
      "metadata": {
        "id": "y9OCHyudIYC5"
      },
      "source": [
        "def tfidf(data_col, data_tr_col):\n",
        "    from sklearn.feature_extraction.text import TfidfVectorizer\n",
        "    vectorizer = TfidfVectorizer(max_features = 50)\n",
        "    vectorizer.fit(data_tr_col)\n",
        "    return vectorizer.transform(data_col).todense(), vectorizer.get_feature_names(), vectorizer.idf_\n",
        "\n",
        " \n",
        "def one_hot_encoding(col_tr, col):\n",
        "    from sklearn.feature_extraction.text import CountVectorizer\n",
        "    vectorizer = CountVectorizer(max_features = 50)\n",
        "    vectorizer.fit(col_tr)\n",
        "    return vectorizer.transform(col).todense()\n",
        "\n",
        "def word2vec(col, tfidf_feature_names, idf_val):\n",
        "    from gensim.models import Word2Vec\n",
        "    list_of_sentences=[]\n",
        "    for sent in col:\n",
        "      list_of_sentences.append(sent.split())\n",
        "    W2V_model = Word2Vec(list_of_sentences,min_count=1,size=50,workers=5)\n",
        "    #print(W2V_model.wv.most_similar('joy'))\n",
        "    \n",
        "    dictionary = dict(zip(tfidf_feature_names, list(idf_val)))\n",
        "    tfidf_words = tfidf_feature_names\n",
        "    W2V_words = W2V_model.wv.vocab\n",
        "    sentence_vec = np.zeros(50)\n",
        "    tfidf_w2v_vec=[]\n",
        "    for sent in list_of_sentences:\n",
        "      sentence_vec = np.zeros(50)\n",
        "      for word in sent:\n",
        "        if word in W2V_words and word in tfidf_words:\n",
        "          vec = W2V_model.wv[word]\n",
        "          tfidf_val = dictionary[word]*(sent.count(word)/len(sent))\n",
        "          sentence_vec+=vec*tfidf_val\n",
        "      tfidf_w2v_vec.append(sentence_vec)\n",
        "    return tfidf_w2v_vec\n",
        "\n",
        "\n",
        "def normalize(data,data_tr,feature):\n",
        "  from sklearn.preprocessing import StandardScaler\n",
        "  norm = StandardScaler()\n",
        "  norm.fit(np.array(data_tr[feature]).reshape(-1,1))\n",
        "\n",
        "  return norm.transform(np.array(data[feature]).reshape(-1,1))\n",
        "\n",
        "def preprocessing(data):\n",
        "  tar  = data['Is_Lead'].values\n",
        "  data.drop('ID',axis=1,inplace=True)\n",
        "  if df['Credit_Product'].isna().any():\n",
        "    null_rows = df[df['Credit_Product'].isna()]\n",
        "    data.dropna(inplace=True)\n",
        "    tar_without_nan  = data['Is_Lead'].values\n",
        "    return data, tar_without_nan, null_rows\n",
        "  else:\n",
        "    return data, tar, None\n"
      ],
      "execution_count": 83,
      "outputs": []
    },
    {
      "cell_type": "code",
      "metadata": {
        "colab": {
          "base_uri": "https://localhost:8080/",
          "height": 419
        },
        "id": "Gujkrz8qIq-x",
        "outputId": "d7c7d11b-8faa-4fd2-847f-e379252d6992"
      },
      "source": [
        "data_without_nan ,tar_without_nan, null_data = preprocessing(df)\n",
        "data_without_nan"
      ],
      "execution_count": 84,
      "outputs": [
        {
          "output_type": "execute_result",
          "data": {
            "text/html": [
              "<div>\n",
              "<style scoped>\n",
              "    .dataframe tbody tr th:only-of-type {\n",
              "        vertical-align: middle;\n",
              "    }\n",
              "\n",
              "    .dataframe tbody tr th {\n",
              "        vertical-align: top;\n",
              "    }\n",
              "\n",
              "    .dataframe thead th {\n",
              "        text-align: right;\n",
              "    }\n",
              "</style>\n",
              "<table border=\"1\" class=\"dataframe\">\n",
              "  <thead>\n",
              "    <tr style=\"text-align: right;\">\n",
              "      <th></th>\n",
              "      <th>Gender</th>\n",
              "      <th>Age</th>\n",
              "      <th>Region_Code</th>\n",
              "      <th>Occupation</th>\n",
              "      <th>Channel_Code</th>\n",
              "      <th>Vintage</th>\n",
              "      <th>Credit_Product</th>\n",
              "      <th>Avg_Account_Balance</th>\n",
              "      <th>Is_Active</th>\n",
              "      <th>Is_Lead</th>\n",
              "    </tr>\n",
              "  </thead>\n",
              "  <tbody>\n",
              "    <tr>\n",
              "      <th>0</th>\n",
              "      <td>Female</td>\n",
              "      <td>73</td>\n",
              "      <td>RG268</td>\n",
              "      <td>Other</td>\n",
              "      <td>X3</td>\n",
              "      <td>43</td>\n",
              "      <td>No</td>\n",
              "      <td>1045696</td>\n",
              "      <td>No</td>\n",
              "      <td>0</td>\n",
              "    </tr>\n",
              "    <tr>\n",
              "      <th>1</th>\n",
              "      <td>Female</td>\n",
              "      <td>30</td>\n",
              "      <td>RG277</td>\n",
              "      <td>Salaried</td>\n",
              "      <td>X1</td>\n",
              "      <td>32</td>\n",
              "      <td>No</td>\n",
              "      <td>581988</td>\n",
              "      <td>No</td>\n",
              "      <td>0</td>\n",
              "    </tr>\n",
              "    <tr>\n",
              "      <th>2</th>\n",
              "      <td>Female</td>\n",
              "      <td>56</td>\n",
              "      <td>RG268</td>\n",
              "      <td>Self_Employed</td>\n",
              "      <td>X3</td>\n",
              "      <td>26</td>\n",
              "      <td>No</td>\n",
              "      <td>1484315</td>\n",
              "      <td>Yes</td>\n",
              "      <td>0</td>\n",
              "    </tr>\n",
              "    <tr>\n",
              "      <th>3</th>\n",
              "      <td>Male</td>\n",
              "      <td>34</td>\n",
              "      <td>RG270</td>\n",
              "      <td>Salaried</td>\n",
              "      <td>X1</td>\n",
              "      <td>19</td>\n",
              "      <td>No</td>\n",
              "      <td>470454</td>\n",
              "      <td>No</td>\n",
              "      <td>0</td>\n",
              "    </tr>\n",
              "    <tr>\n",
              "      <th>4</th>\n",
              "      <td>Female</td>\n",
              "      <td>30</td>\n",
              "      <td>RG282</td>\n",
              "      <td>Salaried</td>\n",
              "      <td>X1</td>\n",
              "      <td>33</td>\n",
              "      <td>No</td>\n",
              "      <td>886787</td>\n",
              "      <td>No</td>\n",
              "      <td>0</td>\n",
              "    </tr>\n",
              "    <tr>\n",
              "      <th>...</th>\n",
              "      <td>...</td>\n",
              "      <td>...</td>\n",
              "      <td>...</td>\n",
              "      <td>...</td>\n",
              "      <td>...</td>\n",
              "      <td>...</td>\n",
              "      <td>...</td>\n",
              "      <td>...</td>\n",
              "      <td>...</td>\n",
              "      <td>...</td>\n",
              "    </tr>\n",
              "    <tr>\n",
              "      <th>245719</th>\n",
              "      <td>Female</td>\n",
              "      <td>38</td>\n",
              "      <td>RG280</td>\n",
              "      <td>Salaried</td>\n",
              "      <td>X2</td>\n",
              "      <td>13</td>\n",
              "      <td>Yes</td>\n",
              "      <td>354665</td>\n",
              "      <td>No</td>\n",
              "      <td>0</td>\n",
              "    </tr>\n",
              "    <tr>\n",
              "      <th>245721</th>\n",
              "      <td>Male</td>\n",
              "      <td>27</td>\n",
              "      <td>RG268</td>\n",
              "      <td>Salaried</td>\n",
              "      <td>X1</td>\n",
              "      <td>15</td>\n",
              "      <td>No</td>\n",
              "      <td>862952</td>\n",
              "      <td>Yes</td>\n",
              "      <td>0</td>\n",
              "    </tr>\n",
              "    <tr>\n",
              "      <th>245722</th>\n",
              "      <td>Female</td>\n",
              "      <td>26</td>\n",
              "      <td>RG281</td>\n",
              "      <td>Salaried</td>\n",
              "      <td>X1</td>\n",
              "      <td>13</td>\n",
              "      <td>No</td>\n",
              "      <td>670659</td>\n",
              "      <td>No</td>\n",
              "      <td>0</td>\n",
              "    </tr>\n",
              "    <tr>\n",
              "      <th>245723</th>\n",
              "      <td>Female</td>\n",
              "      <td>28</td>\n",
              "      <td>RG273</td>\n",
              "      <td>Salaried</td>\n",
              "      <td>X1</td>\n",
              "      <td>31</td>\n",
              "      <td>No</td>\n",
              "      <td>407504</td>\n",
              "      <td>No</td>\n",
              "      <td>0</td>\n",
              "    </tr>\n",
              "    <tr>\n",
              "      <th>245724</th>\n",
              "      <td>Male</td>\n",
              "      <td>29</td>\n",
              "      <td>RG269</td>\n",
              "      <td>Salaried</td>\n",
              "      <td>X1</td>\n",
              "      <td>21</td>\n",
              "      <td>No</td>\n",
              "      <td>1129276</td>\n",
              "      <td>No</td>\n",
              "      <td>0</td>\n",
              "    </tr>\n",
              "  </tbody>\n",
              "</table>\n",
              "<p>216400 rows × 10 columns</p>\n",
              "</div>"
            ],
            "text/plain": [
              "        Gender  Age Region_Code  ... Avg_Account_Balance Is_Active  Is_Lead\n",
              "0       Female   73       RG268  ...             1045696        No        0\n",
              "1       Female   30       RG277  ...              581988        No        0\n",
              "2       Female   56       RG268  ...             1484315       Yes        0\n",
              "3         Male   34       RG270  ...              470454        No        0\n",
              "4       Female   30       RG282  ...              886787        No        0\n",
              "...        ...  ...         ...  ...                 ...       ...      ...\n",
              "245719  Female   38       RG280  ...              354665        No        0\n",
              "245721    Male   27       RG268  ...              862952       Yes        0\n",
              "245722  Female   26       RG281  ...              670659        No        0\n",
              "245723  Female   28       RG273  ...              407504        No        0\n",
              "245724    Male   29       RG269  ...             1129276        No        0\n",
              "\n",
              "[216400 rows x 10 columns]"
            ]
          },
          "metadata": {
            "tags": []
          },
          "execution_count": 84
        }
      ]
    },
    {
      "cell_type": "markdown",
      "metadata": {
        "id": "BfReUcDBpqeG"
      },
      "source": [
        "<h1>Missing Value Imputation using ANN"
      ]
    },
    {
      "cell_type": "code",
      "metadata": {
        "id": "cF5RNg5kKKAr"
      },
      "source": [
        "from sklearn.model_selection import train_test_split\n",
        "X_tr, X_test, y_tr, y_test = train_test_split(data_without_nan.drop(['Credit_Product','Is_Lead'],axis=1),data_without_nan['Credit_Product'],test_size=0.25, random_state=52)\n"
      ],
      "execution_count": 85,
      "outputs": []
    },
    {
      "cell_type": "code",
      "metadata": {
        "id": "8YxuF-3dQbRy"
      },
      "source": [
        "#train tfidf\n",
        "\n",
        "gender_tfidf_tr, gender_features_tr, gender_idf_tr = tfidf(X_tr['Gender'],X_tr['Gender'])\n",
        "Region_Code_tr, Region_Code_features_tr, Region_Code_idf_tr = tfidf(X_tr['Region_Code'], X_tr['Region_Code'])\n",
        "Occupation_tr, Occupation_features_tr, Occupation_idf_tr = tfidf(X_tr['Occupation'], X_tr['Occupation'])\n",
        "Channel_Code_tr, Channel_Code_features_tr, Channel_Code_idf_tr = tfidf(X_tr['Channel_Code'], X_tr['Channel_Code'])\n",
        "Is_Active_tr, Is_Active_features_tr, Is_Active_idf_tr = tfidf(X_tr['Is_Active'], X_tr['Is_Active'])\n",
        "\n",
        "age_normal_tr = normalize(X_tr, X_tr, 'Age')\n",
        "vin_normal_tr = normalize(X_tr, X_tr, 'Vintage')\n",
        "ac_bal_normal_tr = normalize(X_tr, X_tr, 'Avg_Account_Balance')\n",
        "\n",
        "#test tfidf\n",
        "\n",
        "gender_tfidf_test, gender_features_test, gender_idf_test = tfidf(X_test['Gender'],X_tr['Gender'])\n",
        "Region_Code_test, Region_Code_features_test, Region_Code_idf_test = tfidf(X_test['Region_Code'], X_tr['Region_Code'])\n",
        "Occupation_test, Occupation_features_test, Occupation_idf_test = tfidf(X_test['Occupation'], X_tr['Occupation'])\n",
        "Channel_Code_test, Channel_Code_features_test, Channel_Code_idf_test = tfidf(X_test['Channel_Code'], X_tr['Channel_Code'])\n",
        "Is_Active_test, Is_Active_features_test, Is_Active_idf_test = tfidf(X_test['Is_Active'], X_tr['Is_Active'])\n",
        "\n",
        "age_normal_test = normalize(X_test, X_tr, 'Age')\n",
        "vin_normal_test = normalize(X_test, X_tr, 'Vintage')\n",
        "ac_bal_normal_test = normalize(X_test, X_tr, 'Avg_Account_Balance')\n",
        "\n",
        "\n"
      ],
      "execution_count": 86,
      "outputs": []
    },
    {
      "cell_type": "code",
      "metadata": {
        "id": "9gzJ8dZ1Un2L"
      },
      "source": [
        "imp_tr = np.column_stack((gender_tfidf_tr,\n",
        "                          Region_Code_tr, \n",
        "                          Occupation_tr,\n",
        "                          Channel_Code_tr, \n",
        "                          Is_Active_tr,\n",
        "                          age_normal_tr,\n",
        "                          vin_normal_tr,\n",
        "                          ac_bal_normal_tr\n",
        "                         ))\n",
        "                        \n",
        "\n",
        "\n",
        "imp_test = np.column_stack((gender_tfidf_test,\n",
        "                          Region_Code_test, \n",
        "                          Occupation_test,\n",
        "                          Channel_Code_test, \n",
        "                          Is_Active_test,\n",
        "                          age_normal_test,\n",
        "                          vin_normal_test,\n",
        "                          ac_bal_normal_test\n",
        "                          ))\n",
        "                        "
      ],
      "execution_count": 87,
      "outputs": []
    },
    {
      "cell_type": "code",
      "metadata": {
        "colab": {
          "base_uri": "https://localhost:8080/"
        },
        "id": "4yHeFni6SBW3",
        "outputId": "7bef1688-3d2f-4730-c3fa-8034aa0dbbcc"
      },
      "source": [
        "print(imp_tr.shape,imp_test.shape)"
      ],
      "execution_count": 88,
      "outputs": [
        {
          "output_type": "stream",
          "text": [
            "(162300, 50) (54100, 50)\n"
          ],
          "name": "stdout"
        }
      ]
    },
    {
      "cell_type": "code",
      "metadata": {
        "id": "cgQCu4P1LJ1O"
      },
      "source": [
        "from sklearn.preprocessing import StandardScaler\n",
        "scaler = StandardScaler()\n",
        "scaler.fit(imp_tr)\n",
        "imp_tr = scaler.transform(imp_tr)\n",
        "imp_test = scaler.transform(imp_test)"
      ],
      "execution_count": 89,
      "outputs": []
    },
    {
      "cell_type": "markdown",
      "metadata": {
        "id": "uMhfpYamG8dR"
      },
      "source": [
        "<h1>IMPUTATION USING SEQUENTIAL DENSE MODEL"
      ]
    },
    {
      "cell_type": "code",
      "metadata": {
        "id": "bvMGKI7MHP2D"
      },
      "source": [
        "import tensorflow as tf\n",
        "import keras\n",
        "from keras.layers import *\n",
        "from keras.callbacks import ReduceLROnPlateau, EarlyStopping\n",
        "from keras.optimizers import Adam\n",
        "from keras.models import Sequential"
      ],
      "execution_count": 90,
      "outputs": []
    },
    {
      "cell_type": "code",
      "metadata": {
        "id": "mOfdn09-X5Ls"
      },
      "source": [
        "y_tr = tf.keras.utils.to_categorical(np.array([1 if i==\"Yes\" else 0 for i in y_tr]))\n",
        "y_test = tf.keras.utils.to_categorical(np.array([1 if i==\"Yes\" else 0 for i in y_test]))"
      ],
      "execution_count": 14,
      "outputs": []
    },
    {
      "cell_type": "code",
      "metadata": {
        "colab": {
          "base_uri": "https://localhost:8080/"
        },
        "id": "0NCO_pQrG8Gv",
        "outputId": "7d85d49d-3466-4975-fdcc-76f6f60b5c24"
      },
      "source": [
        "model = Sequential()\n",
        "model.add(Dense(64, activation=\"relu\", input_dim=(imp_tr.shape[1])))\n",
        "model.add(Dense(32, activation=\"relu\"))\n",
        "model.add(Dense(16, activation=\"relu\"))\n",
        "model.add(Dense(8, activation=\"relu\"))\n",
        "model.add(Dense(4, activation=\"relu\"))\n",
        "model.add(Dense(2, activation=\"relu\"))\n",
        "model.add(Dense(2, activation=\"softmax\"))\n",
        "\n",
        "auc = tf.keras.metrics.AUC(\n",
        "    num_thresholds=200, curve='ROC',\n",
        "    summation_method='interpolation', name=None, dtype=None,\n",
        "    thresholds=None, multi_label=False, num_labels=None, label_weights=None,\n",
        "    from_logits=False\n",
        ")\n",
        "model.compile(optimizer=Adam(lr=1e-4), loss=\"categorical_crossentropy\", metrics=[\"accuracy\",auc])\n",
        "\n",
        "model.summary()\n",
        "history = model.fit(imp_tr, \n",
        "                    y_tr, \n",
        "                    batch_size = 32,\n",
        "                    epochs=10, \n",
        "                    validation_data=(imp_test, y_test), \n",
        "                    callbacks=[ReduceLROnPlateau(patience=3, verbose=1, min_lr=1e-6), \n",
        "                               EarlyStopping(patience=5, verbose=1)])"
      ],
      "execution_count": 15,
      "outputs": [
        {
          "output_type": "stream",
          "text": [
            "/usr/local/lib/python3.7/dist-packages/tensorflow/python/keras/optimizer_v2/optimizer_v2.py:375: UserWarning: The `lr` argument is deprecated, use `learning_rate` instead.\n",
            "  \"The `lr` argument is deprecated, use `learning_rate` instead.\")\n"
          ],
          "name": "stderr"
        },
        {
          "output_type": "stream",
          "text": [
            "Model: \"sequential\"\n",
            "_________________________________________________________________\n",
            "Layer (type)                 Output Shape              Param #   \n",
            "=================================================================\n",
            "dense (Dense)                (None, 64)                3264      \n",
            "_________________________________________________________________\n",
            "dense_1 (Dense)              (None, 32)                2080      \n",
            "_________________________________________________________________\n",
            "dense_2 (Dense)              (None, 16)                528       \n",
            "_________________________________________________________________\n",
            "dense_3 (Dense)              (None, 8)                 136       \n",
            "_________________________________________________________________\n",
            "dense_4 (Dense)              (None, 4)                 36        \n",
            "_________________________________________________________________\n",
            "dense_5 (Dense)              (None, 2)                 10        \n",
            "_________________________________________________________________\n",
            "dense_6 (Dense)              (None, 2)                 6         \n",
            "=================================================================\n",
            "Total params: 6,060\n",
            "Trainable params: 6,060\n",
            "Non-trainable params: 0\n",
            "_________________________________________________________________\n",
            "Epoch 1/10\n",
            "5072/5072 [==============================] - 25s 2ms/step - loss: 0.6032 - accuracy: 0.6750 - auc: 0.7160 - val_loss: 0.5647 - val_accuracy: 0.7129 - val_auc: 0.7653\n",
            "Epoch 2/10\n",
            "5072/5072 [==============================] - 12s 2ms/step - loss: 0.5629 - accuracy: 0.7144 - auc: 0.7697 - val_loss: 0.5599 - val_accuracy: 0.7162 - val_auc: 0.7751\n",
            "Epoch 3/10\n",
            "5072/5072 [==============================] - 11s 2ms/step - loss: 0.5585 - accuracy: 0.7173 - auc: 0.7766 - val_loss: 0.5560 - val_accuracy: 0.7206 - val_auc: 0.7793\n",
            "Epoch 4/10\n",
            "5072/5072 [==============================] - 11s 2ms/step - loss: 0.5562 - accuracy: 0.7187 - auc: 0.7802 - val_loss: 0.5537 - val_accuracy: 0.7223 - val_auc: 0.7821\n",
            "Epoch 5/10\n",
            "5072/5072 [==============================] - 12s 2ms/step - loss: 0.5529 - accuracy: 0.7227 - auc: 0.7828 - val_loss: 0.5516 - val_accuracy: 0.7236 - val_auc: 0.7842\n",
            "Epoch 6/10\n",
            "5072/5072 [==============================] - 11s 2ms/step - loss: 0.5501 - accuracy: 0.7234 - auc: 0.7848 - val_loss: 0.5495 - val_accuracy: 0.7243 - val_auc: 0.7859\n",
            "Epoch 7/10\n",
            "5072/5072 [==============================] - 11s 2ms/step - loss: 0.5477 - accuracy: 0.7240 - auc: 0.7864 - val_loss: 0.5477 - val_accuracy: 0.7247 - val_auc: 0.7874\n",
            "Epoch 8/10\n",
            "5072/5072 [==============================] - 11s 2ms/step - loss: 0.5465 - accuracy: 0.7261 - auc: 0.7879 - val_loss: 0.5462 - val_accuracy: 0.7252 - val_auc: 0.7887\n",
            "Epoch 9/10\n",
            "5072/5072 [==============================] - 11s 2ms/step - loss: 0.5429 - accuracy: 0.7278 - auc: 0.7892 - val_loss: 0.5452 - val_accuracy: 0.7262 - val_auc: 0.7899\n",
            "Epoch 10/10\n",
            "5072/5072 [==============================] - 11s 2ms/step - loss: 0.5445 - accuracy: 0.7259 - auc: 0.7902 - val_loss: 0.5465 - val_accuracy: 0.7262 - val_auc: 0.7909\n"
          ],
          "name": "stdout"
        }
      ]
    },
    {
      "cell_type": "code",
      "metadata": {
        "id": "-Z72i1R_eqg6"
      },
      "source": [
        "null_data.drop(['Credit_Product','Is_Lead'],axis=1,inplace=True)"
      ],
      "execution_count": null,
      "outputs": []
    },
    {
      "cell_type": "code",
      "metadata": {
        "colab": {
          "base_uri": "https://localhost:8080/",
          "height": 419
        },
        "id": "C5nFriRGfhAy",
        "outputId": "24ec39ba-99e5-43f6-ddfd-a394c5e03be6"
      },
      "source": [
        "null_data"
      ],
      "execution_count": 18,
      "outputs": [
        {
          "output_type": "execute_result",
          "data": {
            "text/html": [
              "<div>\n",
              "<style scoped>\n",
              "    .dataframe tbody tr th:only-of-type {\n",
              "        vertical-align: middle;\n",
              "    }\n",
              "\n",
              "    .dataframe tbody tr th {\n",
              "        vertical-align: top;\n",
              "    }\n",
              "\n",
              "    .dataframe thead th {\n",
              "        text-align: right;\n",
              "    }\n",
              "</style>\n",
              "<table border=\"1\" class=\"dataframe\">\n",
              "  <thead>\n",
              "    <tr style=\"text-align: right;\">\n",
              "      <th></th>\n",
              "      <th>Gender</th>\n",
              "      <th>Age</th>\n",
              "      <th>Region_Code</th>\n",
              "      <th>Occupation</th>\n",
              "      <th>Channel_Code</th>\n",
              "      <th>Vintage</th>\n",
              "      <th>Avg_Account_Balance</th>\n",
              "      <th>Is_Active</th>\n",
              "    </tr>\n",
              "  </thead>\n",
              "  <tbody>\n",
              "    <tr>\n",
              "      <th>6</th>\n",
              "      <td>Male</td>\n",
              "      <td>62</td>\n",
              "      <td>RG282</td>\n",
              "      <td>Other</td>\n",
              "      <td>X3</td>\n",
              "      <td>20</td>\n",
              "      <td>1056750</td>\n",
              "      <td>Yes</td>\n",
              "    </tr>\n",
              "    <tr>\n",
              "      <th>15</th>\n",
              "      <td>Male</td>\n",
              "      <td>33</td>\n",
              "      <td>RG268</td>\n",
              "      <td>Self_Employed</td>\n",
              "      <td>X2</td>\n",
              "      <td>69</td>\n",
              "      <td>517063</td>\n",
              "      <td>Yes</td>\n",
              "    </tr>\n",
              "    <tr>\n",
              "      <th>31</th>\n",
              "      <td>Female</td>\n",
              "      <td>32</td>\n",
              "      <td>RG279</td>\n",
              "      <td>Salaried</td>\n",
              "      <td>X4</td>\n",
              "      <td>15</td>\n",
              "      <td>1072850</td>\n",
              "      <td>Yes</td>\n",
              "    </tr>\n",
              "    <tr>\n",
              "      <th>36</th>\n",
              "      <td>Female</td>\n",
              "      <td>41</td>\n",
              "      <td>RG268</td>\n",
              "      <td>Self_Employed</td>\n",
              "      <td>X3</td>\n",
              "      <td>62</td>\n",
              "      <td>962383</td>\n",
              "      <td>No</td>\n",
              "    </tr>\n",
              "    <tr>\n",
              "      <th>40</th>\n",
              "      <td>Female</td>\n",
              "      <td>63</td>\n",
              "      <td>RG254</td>\n",
              "      <td>Other</td>\n",
              "      <td>X3</td>\n",
              "      <td>103</td>\n",
              "      <td>1249319</td>\n",
              "      <td>Yes</td>\n",
              "    </tr>\n",
              "    <tr>\n",
              "      <th>...</th>\n",
              "      <td>...</td>\n",
              "      <td>...</td>\n",
              "      <td>...</td>\n",
              "      <td>...</td>\n",
              "      <td>...</td>\n",
              "      <td>...</td>\n",
              "      <td>...</td>\n",
              "      <td>...</td>\n",
              "    </tr>\n",
              "    <tr>\n",
              "      <th>245684</th>\n",
              "      <td>Female</td>\n",
              "      <td>51</td>\n",
              "      <td>RG281</td>\n",
              "      <td>Entrepreneur</td>\n",
              "      <td>X3</td>\n",
              "      <td>99</td>\n",
              "      <td>552992</td>\n",
              "      <td>No</td>\n",
              "    </tr>\n",
              "    <tr>\n",
              "      <th>245694</th>\n",
              "      <td>Female</td>\n",
              "      <td>50</td>\n",
              "      <td>RG277</td>\n",
              "      <td>Self_Employed</td>\n",
              "      <td>X2</td>\n",
              "      <td>92</td>\n",
              "      <td>1385124</td>\n",
              "      <td>No</td>\n",
              "    </tr>\n",
              "    <tr>\n",
              "      <th>245699</th>\n",
              "      <td>Male</td>\n",
              "      <td>53</td>\n",
              "      <td>RG254</td>\n",
              "      <td>Other</td>\n",
              "      <td>X2</td>\n",
              "      <td>19</td>\n",
              "      <td>1141825</td>\n",
              "      <td>Yes</td>\n",
              "    </tr>\n",
              "    <tr>\n",
              "      <th>245714</th>\n",
              "      <td>Female</td>\n",
              "      <td>46</td>\n",
              "      <td>RG268</td>\n",
              "      <td>Self_Employed</td>\n",
              "      <td>X2</td>\n",
              "      <td>19</td>\n",
              "      <td>993195</td>\n",
              "      <td>No</td>\n",
              "    </tr>\n",
              "    <tr>\n",
              "      <th>245720</th>\n",
              "      <td>Male</td>\n",
              "      <td>51</td>\n",
              "      <td>RG284</td>\n",
              "      <td>Self_Employed</td>\n",
              "      <td>X3</td>\n",
              "      <td>109</td>\n",
              "      <td>1925586</td>\n",
              "      <td>No</td>\n",
              "    </tr>\n",
              "  </tbody>\n",
              "</table>\n",
              "<p>29325 rows × 8 columns</p>\n",
              "</div>"
            ],
            "text/plain": [
              "        Gender  Age Region_Code  ... Vintage Avg_Account_Balance  Is_Active\n",
              "6         Male   62       RG282  ...      20             1056750        Yes\n",
              "15        Male   33       RG268  ...      69              517063        Yes\n",
              "31      Female   32       RG279  ...      15             1072850        Yes\n",
              "36      Female   41       RG268  ...      62              962383         No\n",
              "40      Female   63       RG254  ...     103             1249319        Yes\n",
              "...        ...  ...         ...  ...     ...                 ...        ...\n",
              "245684  Female   51       RG281  ...      99              552992         No\n",
              "245694  Female   50       RG277  ...      92             1385124         No\n",
              "245699    Male   53       RG254  ...      19             1141825        Yes\n",
              "245714  Female   46       RG268  ...      19              993195         No\n",
              "245720    Male   51       RG284  ...     109             1925586         No\n",
              "\n",
              "[29325 rows x 8 columns]"
            ]
          },
          "metadata": {
            "tags": []
          },
          "execution_count": 18
        }
      ]
    },
    {
      "cell_type": "code",
      "metadata": {
        "colab": {
          "base_uri": "https://localhost:8080/",
          "height": 419
        },
        "id": "EPaaUo4JfRkz",
        "outputId": "33e45534-59da-4cbd-ec13-d7c13295bd9e"
      },
      "source": [
        "X_tr"
      ],
      "execution_count": 199,
      "outputs": [
        {
          "output_type": "execute_result",
          "data": {
            "text/html": [
              "<div>\n",
              "<style scoped>\n",
              "    .dataframe tbody tr th:only-of-type {\n",
              "        vertical-align: middle;\n",
              "    }\n",
              "\n",
              "    .dataframe tbody tr th {\n",
              "        vertical-align: top;\n",
              "    }\n",
              "\n",
              "    .dataframe thead th {\n",
              "        text-align: right;\n",
              "    }\n",
              "</style>\n",
              "<table border=\"1\" class=\"dataframe\">\n",
              "  <thead>\n",
              "    <tr style=\"text-align: right;\">\n",
              "      <th></th>\n",
              "      <th>Gender</th>\n",
              "      <th>Age</th>\n",
              "      <th>Region_Code</th>\n",
              "      <th>Occupation</th>\n",
              "      <th>Channel_Code</th>\n",
              "      <th>Vintage</th>\n",
              "      <th>Avg_Account_Balance</th>\n",
              "      <th>Is_Active</th>\n",
              "    </tr>\n",
              "  </thead>\n",
              "  <tbody>\n",
              "    <tr>\n",
              "      <th>93380</th>\n",
              "      <td>Male</td>\n",
              "      <td>53</td>\n",
              "      <td>RG284</td>\n",
              "      <td>Self_Employed</td>\n",
              "      <td>X2</td>\n",
              "      <td>98</td>\n",
              "      <td>1175173</td>\n",
              "      <td>Yes</td>\n",
              "    </tr>\n",
              "    <tr>\n",
              "      <th>227468</th>\n",
              "      <td>Male</td>\n",
              "      <td>61</td>\n",
              "      <td>RG283</td>\n",
              "      <td>Self_Employed</td>\n",
              "      <td>X3</td>\n",
              "      <td>13</td>\n",
              "      <td>741539</td>\n",
              "      <td>No</td>\n",
              "    </tr>\n",
              "    <tr>\n",
              "      <th>139526</th>\n",
              "      <td>Female</td>\n",
              "      <td>38</td>\n",
              "      <td>RG273</td>\n",
              "      <td>Self_Employed</td>\n",
              "      <td>X2</td>\n",
              "      <td>26</td>\n",
              "      <td>391582</td>\n",
              "      <td>No</td>\n",
              "    </tr>\n",
              "    <tr>\n",
              "      <th>161330</th>\n",
              "      <td>Female</td>\n",
              "      <td>27</td>\n",
              "      <td>RG256</td>\n",
              "      <td>Other</td>\n",
              "      <td>X1</td>\n",
              "      <td>31</td>\n",
              "      <td>1617939</td>\n",
              "      <td>No</td>\n",
              "    </tr>\n",
              "    <tr>\n",
              "      <th>7622</th>\n",
              "      <td>Female</td>\n",
              "      <td>38</td>\n",
              "      <td>RG268</td>\n",
              "      <td>Salaried</td>\n",
              "      <td>X1</td>\n",
              "      <td>27</td>\n",
              "      <td>1581120</td>\n",
              "      <td>Yes</td>\n",
              "    </tr>\n",
              "    <tr>\n",
              "      <th>...</th>\n",
              "      <td>...</td>\n",
              "      <td>...</td>\n",
              "      <td>...</td>\n",
              "      <td>...</td>\n",
              "      <td>...</td>\n",
              "      <td>...</td>\n",
              "      <td>...</td>\n",
              "      <td>...</td>\n",
              "    </tr>\n",
              "    <tr>\n",
              "      <th>66188</th>\n",
              "      <td>Male</td>\n",
              "      <td>47</td>\n",
              "      <td>RG279</td>\n",
              "      <td>Self_Employed</td>\n",
              "      <td>X2</td>\n",
              "      <td>49</td>\n",
              "      <td>317552</td>\n",
              "      <td>No</td>\n",
              "    </tr>\n",
              "    <tr>\n",
              "      <th>146567</th>\n",
              "      <td>Male</td>\n",
              "      <td>44</td>\n",
              "      <td>RG268</td>\n",
              "      <td>Self_Employed</td>\n",
              "      <td>X1</td>\n",
              "      <td>61</td>\n",
              "      <td>492330</td>\n",
              "      <td>Yes</td>\n",
              "    </tr>\n",
              "    <tr>\n",
              "      <th>79301</th>\n",
              "      <td>Female</td>\n",
              "      <td>66</td>\n",
              "      <td>RG283</td>\n",
              "      <td>Other</td>\n",
              "      <td>X3</td>\n",
              "      <td>57</td>\n",
              "      <td>616850</td>\n",
              "      <td>Yes</td>\n",
              "    </tr>\n",
              "    <tr>\n",
              "      <th>64566</th>\n",
              "      <td>Male</td>\n",
              "      <td>26</td>\n",
              "      <td>RG256</td>\n",
              "      <td>Salaried</td>\n",
              "      <td>X1</td>\n",
              "      <td>21</td>\n",
              "      <td>1157712</td>\n",
              "      <td>Yes</td>\n",
              "    </tr>\n",
              "    <tr>\n",
              "      <th>48482</th>\n",
              "      <td>Female</td>\n",
              "      <td>25</td>\n",
              "      <td>RG280</td>\n",
              "      <td>Salaried</td>\n",
              "      <td>X1</td>\n",
              "      <td>15</td>\n",
              "      <td>256480</td>\n",
              "      <td>No</td>\n",
              "    </tr>\n",
              "  </tbody>\n",
              "</table>\n",
              "<p>162300 rows × 8 columns</p>\n",
              "</div>"
            ],
            "text/plain": [
              "        Gender  Age Region_Code  ... Vintage Avg_Account_Balance  Is_Active\n",
              "93380     Male   53       RG284  ...      98             1175173        Yes\n",
              "227468    Male   61       RG283  ...      13              741539         No\n",
              "139526  Female   38       RG273  ...      26              391582         No\n",
              "161330  Female   27       RG256  ...      31             1617939         No\n",
              "7622    Female   38       RG268  ...      27             1581120        Yes\n",
              "...        ...  ...         ...  ...     ...                 ...        ...\n",
              "66188     Male   47       RG279  ...      49              317552         No\n",
              "146567    Male   44       RG268  ...      61              492330        Yes\n",
              "79301   Female   66       RG283  ...      57              616850        Yes\n",
              "64566     Male   26       RG256  ...      21             1157712        Yes\n",
              "48482   Female   25       RG280  ...      15              256480         No\n",
              "\n",
              "[162300 rows x 8 columns]"
            ]
          },
          "metadata": {
            "tags": []
          },
          "execution_count": 199
        }
      ]
    },
    {
      "cell_type": "code",
      "metadata": {
        "id": "IkRbLfWoWqNM"
      },
      "source": [
        "gender_tfidf_null, gender_features_null, gender_idf_null = tfidf(null_data['Gender'],X_tr['Gender'])\n",
        "Region_Code_null, Region_Code_features_null, Region_Code_idf_null = tfidf(null_data['Region_Code'], X_tr['Region_Code'])\n",
        "Occupation_null, Occupation_features_null, Occupation_idf_null = tfidf(null_data['Occupation'], X_tr['Occupation'])\n",
        "Channel_Code_null, Channel_Code_features_null, Channel_Code_idf_null = tfidf(null_data['Channel_Code'], X_tr['Channel_Code'])\n",
        "Is_Active_null, Is_Active_features_null, Is_Active_idf_null = tfidf(null_data['Is_Active'], X_tr['Is_Active'])\n",
        "\n",
        "age_normal_null = normalize(null_data, X_tr, 'Age')\n",
        "vin_normal_null = normalize(null_data, X_tr, 'Vintage')\n",
        "ac_bal_normal_null = normalize(null_data, X_tr, 'Avg_Account_Balance')\n",
        "\n"
      ],
      "execution_count": 19,
      "outputs": []
    },
    {
      "cell_type": "code",
      "metadata": {
        "id": "E2EV5hrWG8D-"
      },
      "source": [
        "null_data_vec = np.column_stack((gender_tfidf_null,\n",
        "                          Region_Code_null, \n",
        "                          Occupation_null,\n",
        "                          Channel_Code_null, \n",
        "                          Is_Active_null,\n",
        "                          age_normal_null,\n",
        "                          vin_normal_null,\n",
        "                          ac_bal_normal_null\n",
        "                         ))\n",
        "                        "
      ],
      "execution_count": 20,
      "outputs": []
    },
    {
      "cell_type": "code",
      "metadata": {
        "id": "35RkVodGG8BS"
      },
      "source": [
        "null_pred = [np.argmax(i) for i in model.predict(null_data_vec)]\n",
        "null_pred "
      ],
      "execution_count": null,
      "outputs": []
    },
    {
      "cell_type": "code",
      "metadata": {
        "id": "NmhQ60Uei8r4"
      },
      "source": [
        "#pickle.dump(null_pred,open('/content/drive/MyDrive/Data/null_pred.pkl','wb'))\n",
        "null_pred = pickle.load(open('/content/drive/MyDrive/Data/null_pred.pkl','rb'))"
      ],
      "execution_count": 91,
      "outputs": []
    },
    {
      "cell_type": "code",
      "metadata": {
        "colab": {
          "base_uri": "https://localhost:8080/"
        },
        "id": "e07UdrXCG77z",
        "outputId": "d0223143-1fff-4561-ef2d-91c7b0289f51"
      },
      "source": [
        "null_pred= pd.DataFrame(null_pred,columns=['Credit_Product'])\n",
        "print(null_pred[null_pred.Credit_Product==1].count(),null_pred[null_pred.Credit_Product==0].count())"
      ],
      "execution_count": 92,
      "outputs": [
        {
          "output_type": "stream",
          "text": [
            "Credit_Product    19216\n",
            "dtype: int64 Credit_Product    10109\n",
            "dtype: int64\n"
          ],
          "name": "stdout"
        }
      ]
    },
    {
      "cell_type": "code",
      "metadata": {
        "id": "Fu6y4rGjG75r"
      },
      "source": [
        "a = pd.concat((data_without_nan['Credit_Product'] , null_pred['Credit_Product']),axis=0)"
      ],
      "execution_count": 93,
      "outputs": []
    },
    {
      "cell_type": "code",
      "metadata": {
        "id": "7RTrueVxG7zd"
      },
      "source": [
        "for i,val in enumerate(a.values):\n",
        "  if val == 'Yes' or val == 1:\n",
        "    a.iloc[i] = 1.0\n",
        "  else:\n",
        "    a.iloc[i] = 0.0\n"
      ],
      "execution_count": 94,
      "outputs": []
    },
    {
      "cell_type": "code",
      "metadata": {
        "colab": {
          "base_uri": "https://localhost:8080/"
        },
        "id": "IoyC_OHRG7xJ",
        "outputId": "8941cfe2-e0d2-46d9-a66a-3f851609cba8"
      },
      "source": [
        "a.shape"
      ],
      "execution_count": 207,
      "outputs": [
        {
          "output_type": "execute_result",
          "data": {
            "text/plain": [
              "(245725,)"
            ]
          },
          "metadata": {
            "tags": []
          },
          "execution_count": 207
        }
      ]
    },
    {
      "cell_type": "code",
      "metadata": {
        "colab": {
          "base_uri": "https://localhost:8080/",
          "height": 419
        },
        "id": "JTXZi_HHG7vS",
        "outputId": "fade602d-60b5-4cdc-80cd-561cd9d08cb4"
      },
      "source": [
        "df1['Credit_Product'] = a.values\n",
        "df1"
      ],
      "execution_count": 95,
      "outputs": [
        {
          "output_type": "execute_result",
          "data": {
            "text/html": [
              "<div>\n",
              "<style scoped>\n",
              "    .dataframe tbody tr th:only-of-type {\n",
              "        vertical-align: middle;\n",
              "    }\n",
              "\n",
              "    .dataframe tbody tr th {\n",
              "        vertical-align: top;\n",
              "    }\n",
              "\n",
              "    .dataframe thead th {\n",
              "        text-align: right;\n",
              "    }\n",
              "</style>\n",
              "<table border=\"1\" class=\"dataframe\">\n",
              "  <thead>\n",
              "    <tr style=\"text-align: right;\">\n",
              "      <th></th>\n",
              "      <th>ID</th>\n",
              "      <th>Gender</th>\n",
              "      <th>Age</th>\n",
              "      <th>Region_Code</th>\n",
              "      <th>Occupation</th>\n",
              "      <th>Channel_Code</th>\n",
              "      <th>Vintage</th>\n",
              "      <th>Credit_Product</th>\n",
              "      <th>Avg_Account_Balance</th>\n",
              "      <th>Is_Active</th>\n",
              "      <th>Is_Lead</th>\n",
              "    </tr>\n",
              "  </thead>\n",
              "  <tbody>\n",
              "    <tr>\n",
              "      <th>0</th>\n",
              "      <td>NNVBBKZB</td>\n",
              "      <td>Female</td>\n",
              "      <td>73</td>\n",
              "      <td>RG268</td>\n",
              "      <td>Other</td>\n",
              "      <td>X3</td>\n",
              "      <td>43</td>\n",
              "      <td>0</td>\n",
              "      <td>1045696</td>\n",
              "      <td>No</td>\n",
              "      <td>0</td>\n",
              "    </tr>\n",
              "    <tr>\n",
              "      <th>1</th>\n",
              "      <td>IDD62UNG</td>\n",
              "      <td>Female</td>\n",
              "      <td>30</td>\n",
              "      <td>RG277</td>\n",
              "      <td>Salaried</td>\n",
              "      <td>X1</td>\n",
              "      <td>32</td>\n",
              "      <td>0</td>\n",
              "      <td>581988</td>\n",
              "      <td>No</td>\n",
              "      <td>0</td>\n",
              "    </tr>\n",
              "    <tr>\n",
              "      <th>2</th>\n",
              "      <td>HD3DSEMC</td>\n",
              "      <td>Female</td>\n",
              "      <td>56</td>\n",
              "      <td>RG268</td>\n",
              "      <td>Self_Employed</td>\n",
              "      <td>X3</td>\n",
              "      <td>26</td>\n",
              "      <td>0</td>\n",
              "      <td>1484315</td>\n",
              "      <td>Yes</td>\n",
              "      <td>0</td>\n",
              "    </tr>\n",
              "    <tr>\n",
              "      <th>3</th>\n",
              "      <td>BF3NC7KV</td>\n",
              "      <td>Male</td>\n",
              "      <td>34</td>\n",
              "      <td>RG270</td>\n",
              "      <td>Salaried</td>\n",
              "      <td>X1</td>\n",
              "      <td>19</td>\n",
              "      <td>0</td>\n",
              "      <td>470454</td>\n",
              "      <td>No</td>\n",
              "      <td>0</td>\n",
              "    </tr>\n",
              "    <tr>\n",
              "      <th>4</th>\n",
              "      <td>TEASRWXV</td>\n",
              "      <td>Female</td>\n",
              "      <td>30</td>\n",
              "      <td>RG282</td>\n",
              "      <td>Salaried</td>\n",
              "      <td>X1</td>\n",
              "      <td>33</td>\n",
              "      <td>0</td>\n",
              "      <td>886787</td>\n",
              "      <td>No</td>\n",
              "      <td>0</td>\n",
              "    </tr>\n",
              "    <tr>\n",
              "      <th>...</th>\n",
              "      <td>...</td>\n",
              "      <td>...</td>\n",
              "      <td>...</td>\n",
              "      <td>...</td>\n",
              "      <td>...</td>\n",
              "      <td>...</td>\n",
              "      <td>...</td>\n",
              "      <td>...</td>\n",
              "      <td>...</td>\n",
              "      <td>...</td>\n",
              "      <td>...</td>\n",
              "    </tr>\n",
              "    <tr>\n",
              "      <th>245720</th>\n",
              "      <td>BPAWWXZN</td>\n",
              "      <td>Male</td>\n",
              "      <td>51</td>\n",
              "      <td>RG284</td>\n",
              "      <td>Self_Employed</td>\n",
              "      <td>X3</td>\n",
              "      <td>109</td>\n",
              "      <td>1</td>\n",
              "      <td>1925586</td>\n",
              "      <td>No</td>\n",
              "      <td>0</td>\n",
              "    </tr>\n",
              "    <tr>\n",
              "      <th>245721</th>\n",
              "      <td>HFNB7JY8</td>\n",
              "      <td>Male</td>\n",
              "      <td>27</td>\n",
              "      <td>RG268</td>\n",
              "      <td>Salaried</td>\n",
              "      <td>X1</td>\n",
              "      <td>15</td>\n",
              "      <td>1</td>\n",
              "      <td>862952</td>\n",
              "      <td>Yes</td>\n",
              "      <td>0</td>\n",
              "    </tr>\n",
              "    <tr>\n",
              "      <th>245722</th>\n",
              "      <td>GEHAUCWT</td>\n",
              "      <td>Female</td>\n",
              "      <td>26</td>\n",
              "      <td>RG281</td>\n",
              "      <td>Salaried</td>\n",
              "      <td>X1</td>\n",
              "      <td>13</td>\n",
              "      <td>0</td>\n",
              "      <td>670659</td>\n",
              "      <td>No</td>\n",
              "      <td>0</td>\n",
              "    </tr>\n",
              "    <tr>\n",
              "      <th>245723</th>\n",
              "      <td>GE7V8SAH</td>\n",
              "      <td>Female</td>\n",
              "      <td>28</td>\n",
              "      <td>RG273</td>\n",
              "      <td>Salaried</td>\n",
              "      <td>X1</td>\n",
              "      <td>31</td>\n",
              "      <td>1</td>\n",
              "      <td>407504</td>\n",
              "      <td>No</td>\n",
              "      <td>0</td>\n",
              "    </tr>\n",
              "    <tr>\n",
              "      <th>245724</th>\n",
              "      <td>BOCZSWLJ</td>\n",
              "      <td>Male</td>\n",
              "      <td>29</td>\n",
              "      <td>RG269</td>\n",
              "      <td>Salaried</td>\n",
              "      <td>X1</td>\n",
              "      <td>21</td>\n",
              "      <td>1</td>\n",
              "      <td>1129276</td>\n",
              "      <td>No</td>\n",
              "      <td>0</td>\n",
              "    </tr>\n",
              "  </tbody>\n",
              "</table>\n",
              "<p>245725 rows × 11 columns</p>\n",
              "</div>"
            ],
            "text/plain": [
              "              ID  Gender  Age  ... Avg_Account_Balance Is_Active Is_Lead\n",
              "0       NNVBBKZB  Female   73  ...             1045696        No       0\n",
              "1       IDD62UNG  Female   30  ...              581988        No       0\n",
              "2       HD3DSEMC  Female   56  ...             1484315       Yes       0\n",
              "3       BF3NC7KV    Male   34  ...              470454        No       0\n",
              "4       TEASRWXV  Female   30  ...              886787        No       0\n",
              "...          ...     ...  ...  ...                 ...       ...     ...\n",
              "245720  BPAWWXZN    Male   51  ...             1925586        No       0\n",
              "245721  HFNB7JY8    Male   27  ...              862952       Yes       0\n",
              "245722  GEHAUCWT  Female   26  ...              670659        No       0\n",
              "245723  GE7V8SAH  Female   28  ...              407504        No       0\n",
              "245724  BOCZSWLJ    Male   29  ...             1129276        No       0\n",
              "\n",
              "[245725 rows x 11 columns]"
            ]
          },
          "metadata": {
            "tags": []
          },
          "execution_count": 95
        }
      ]
    },
    {
      "cell_type": "markdown",
      "metadata": {
        "id": "x-kP_dwNpUp7"
      },
      "source": [
        "<h1>Feature Selection using Gradient Boosting"
      ]
    },
    {
      "cell_type": "code",
      "metadata": {
        "id": "juOGFbL7PbEm"
      },
      "source": [
        "feat_data = df1.copy()\n",
        "feat_target = feat_data['Is_Lead']\n",
        "feat_data.drop(['ID','Is_Lead'],axis=1,inplace=True)"
      ],
      "execution_count": 96,
      "outputs": []
    },
    {
      "cell_type": "code",
      "metadata": {
        "id": "l5bZmznoG7JB"
      },
      "source": [
        "from sklearn.preprocessing import LabelEncoder\n",
        "lab_enc = LabelEncoder()\n",
        "feat_data['Gender']  = lab_enc.fit_transform(feat_data['Gender'])\n",
        "feat_data['Region_Code']  = lab_enc.fit_transform(feat_data['Region_Code'])\n",
        "feat_data['Occupation']  = lab_enc.fit_transform(feat_data['Occupation'])\n",
        "feat_data['Channel_Code']  = lab_enc.fit_transform(feat_data['Channel_Code'])\n",
        "feat_data['Is_Active']  = lab_enc.fit_transform(feat_data['Is_Active'])"
      ],
      "execution_count": 97,
      "outputs": []
    },
    {
      "cell_type": "code",
      "metadata": {
        "id": "QveuPRwCQP3d"
      },
      "source": [
        "from sklearn.preprocessing import StandardScaler\n",
        "scaler = StandardScaler()\n",
        "feat_data = scaler.fit_transform(feat_data)"
      ],
      "execution_count": 98,
      "outputs": []
    },
    {
      "cell_type": "code",
      "metadata": {
        "colab": {
          "base_uri": "https://localhost:8080/"
        },
        "id": "yueuUyWYQgur",
        "outputId": "2589e49d-fff4-4bf9-815a-2940ffdd0bcb"
      },
      "source": [
        "feat_data.shape"
      ],
      "execution_count": 99,
      "outputs": [
        {
          "output_type": "execute_result",
          "data": {
            "text/plain": [
              "(245725, 9)"
            ]
          },
          "metadata": {
            "tags": []
          },
          "execution_count": 99
        }
      ]
    },
    {
      "cell_type": "code",
      "metadata": {
        "id": "1ojdcpwKQ5eG"
      },
      "source": [
        "import warnings\n",
        "warnings.simplefilter(\"ignore\")\n",
        "from sklearn.ensemble import GradientBoostingClassifier\n",
        "gbdt= GradientBoostingClassifier()\n",
        "results = gbdt.fit(feat_data,feat_target.values)\n"
      ],
      "execution_count": 100,
      "outputs": []
    },
    {
      "cell_type": "code",
      "metadata": {
        "colab": {
          "base_uri": "https://localhost:8080/",
          "height": 328
        },
        "id": "Ei36ZOy-R6I1",
        "outputId": "f4f50cd6-3c0a-4ed1-be26-251a09965d7d"
      },
      "source": [
        "feat_importance = pd.DataFrame(results.feature_importances_,index=['Gender', 'Age', 'Region_Code', 'Occupation', 'Channel_Code','Vintage', 'Credit_Product', 'Avg_Account_Balance', 'Is_Active'])\n",
        "feat_importance"
      ],
      "execution_count": 101,
      "outputs": [
        {
          "output_type": "execute_result",
          "data": {
            "text/html": [
              "<div>\n",
              "<style scoped>\n",
              "    .dataframe tbody tr th:only-of-type {\n",
              "        vertical-align: middle;\n",
              "    }\n",
              "\n",
              "    .dataframe tbody tr th {\n",
              "        vertical-align: top;\n",
              "    }\n",
              "\n",
              "    .dataframe thead th {\n",
              "        text-align: right;\n",
              "    }\n",
              "</style>\n",
              "<table border=\"1\" class=\"dataframe\">\n",
              "  <thead>\n",
              "    <tr style=\"text-align: right;\">\n",
              "      <th></th>\n",
              "      <th>0</th>\n",
              "    </tr>\n",
              "  </thead>\n",
              "  <tbody>\n",
              "    <tr>\n",
              "      <th>Gender</th>\n",
              "      <td>0.001011</td>\n",
              "    </tr>\n",
              "    <tr>\n",
              "      <th>Age</th>\n",
              "      <td>0.155361</td>\n",
              "    </tr>\n",
              "    <tr>\n",
              "      <th>Region_Code</th>\n",
              "      <td>0.002325</td>\n",
              "    </tr>\n",
              "    <tr>\n",
              "      <th>Occupation</th>\n",
              "      <td>0.208727</td>\n",
              "    </tr>\n",
              "    <tr>\n",
              "      <th>Channel_Code</th>\n",
              "      <td>0.150545</td>\n",
              "    </tr>\n",
              "    <tr>\n",
              "      <th>Vintage</th>\n",
              "      <td>0.466872</td>\n",
              "    </tr>\n",
              "    <tr>\n",
              "      <th>Credit_Product</th>\n",
              "      <td>0.000000</td>\n",
              "    </tr>\n",
              "    <tr>\n",
              "      <th>Avg_Account_Balance</th>\n",
              "      <td>0.004826</td>\n",
              "    </tr>\n",
              "    <tr>\n",
              "      <th>Is_Active</th>\n",
              "      <td>0.010333</td>\n",
              "    </tr>\n",
              "  </tbody>\n",
              "</table>\n",
              "</div>"
            ],
            "text/plain": [
              "                            0\n",
              "Gender               0.001011\n",
              "Age                  0.155361\n",
              "Region_Code          0.002325\n",
              "Occupation           0.208727\n",
              "Channel_Code         0.150545\n",
              "Vintage              0.466872\n",
              "Credit_Product       0.000000\n",
              "Avg_Account_Balance  0.004826\n",
              "Is_Active            0.010333"
            ]
          },
          "metadata": {
            "tags": []
          },
          "execution_count": 101
        }
      ]
    },
    {
      "cell_type": "code",
      "metadata": {
        "id": "0QVK2d2XR_DE"
      },
      "source": [
        "df1.drop(['ID','Gender','Region_Code','Credit_Product','Avg_Account_Balance'],axis=1,inplace=True)"
      ],
      "execution_count": 102,
      "outputs": []
    },
    {
      "cell_type": "code",
      "metadata": {
        "colab": {
          "base_uri": "https://localhost:8080/",
          "height": 204
        },
        "id": "fZS-OpweTfTe",
        "outputId": "7989e3e1-61be-48dc-cc50-5cf49960ac98"
      },
      "source": [
        "df1.head()"
      ],
      "execution_count": 103,
      "outputs": [
        {
          "output_type": "execute_result",
          "data": {
            "text/html": [
              "<div>\n",
              "<style scoped>\n",
              "    .dataframe tbody tr th:only-of-type {\n",
              "        vertical-align: middle;\n",
              "    }\n",
              "\n",
              "    .dataframe tbody tr th {\n",
              "        vertical-align: top;\n",
              "    }\n",
              "\n",
              "    .dataframe thead th {\n",
              "        text-align: right;\n",
              "    }\n",
              "</style>\n",
              "<table border=\"1\" class=\"dataframe\">\n",
              "  <thead>\n",
              "    <tr style=\"text-align: right;\">\n",
              "      <th></th>\n",
              "      <th>Age</th>\n",
              "      <th>Occupation</th>\n",
              "      <th>Channel_Code</th>\n",
              "      <th>Vintage</th>\n",
              "      <th>Is_Active</th>\n",
              "      <th>Is_Lead</th>\n",
              "    </tr>\n",
              "  </thead>\n",
              "  <tbody>\n",
              "    <tr>\n",
              "      <th>0</th>\n",
              "      <td>73</td>\n",
              "      <td>Other</td>\n",
              "      <td>X3</td>\n",
              "      <td>43</td>\n",
              "      <td>No</td>\n",
              "      <td>0</td>\n",
              "    </tr>\n",
              "    <tr>\n",
              "      <th>1</th>\n",
              "      <td>30</td>\n",
              "      <td>Salaried</td>\n",
              "      <td>X1</td>\n",
              "      <td>32</td>\n",
              "      <td>No</td>\n",
              "      <td>0</td>\n",
              "    </tr>\n",
              "    <tr>\n",
              "      <th>2</th>\n",
              "      <td>56</td>\n",
              "      <td>Self_Employed</td>\n",
              "      <td>X3</td>\n",
              "      <td>26</td>\n",
              "      <td>Yes</td>\n",
              "      <td>0</td>\n",
              "    </tr>\n",
              "    <tr>\n",
              "      <th>3</th>\n",
              "      <td>34</td>\n",
              "      <td>Salaried</td>\n",
              "      <td>X1</td>\n",
              "      <td>19</td>\n",
              "      <td>No</td>\n",
              "      <td>0</td>\n",
              "    </tr>\n",
              "    <tr>\n",
              "      <th>4</th>\n",
              "      <td>30</td>\n",
              "      <td>Salaried</td>\n",
              "      <td>X1</td>\n",
              "      <td>33</td>\n",
              "      <td>No</td>\n",
              "      <td>0</td>\n",
              "    </tr>\n",
              "  </tbody>\n",
              "</table>\n",
              "</div>"
            ],
            "text/plain": [
              "   Age     Occupation Channel_Code  Vintage Is_Active  Is_Lead\n",
              "0   73          Other           X3       43        No        0\n",
              "1   30       Salaried           X1       32        No        0\n",
              "2   56  Self_Employed           X3       26       Yes        0\n",
              "3   34       Salaried           X1       19        No        0\n",
              "4   30       Salaried           X1       33        No        0"
            ]
          },
          "metadata": {
            "tags": []
          },
          "execution_count": 103
        }
      ]
    },
    {
      "cell_type": "markdown",
      "metadata": {
        "id": "55luIyX8Mwj8"
      },
      "source": [
        "<h1>Data Visualization"
      ]
    },
    {
      "cell_type": "code",
      "metadata": {
        "id": "NjkLxeHL9550"
      },
      "source": [
        "def check_imbalance(data,cat_col):\n",
        "  plt.figure(figsize=(6,5))\n",
        "  plt.title('Checking imbalance in '+str(cat_col))\n",
        "  sns.countplot(data[cat_col])\n",
        "  plt.grid(True)\n",
        "  plt.show()"
      ],
      "execution_count": 50,
      "outputs": []
    },
    {
      "cell_type": "code",
      "metadata": {
        "colab": {
          "base_uri": "https://localhost:8080/",
          "height": 1000
        },
        "id": "Z6A_L3s0-JJt",
        "outputId": "4a612218-de21-41ba-9937-933d71ba8cf7"
      },
      "source": [
        "for col in ['Occupation','Channel_Code','Is_Active','Is_Lead']:\n",
        "  check_imbalance(df1,col)\n"
      ],
      "execution_count": 53,
      "outputs": [
        {
          "output_type": "display_data",
          "data": {
            "image/png": "[encoded data removed]",
            "text/plain": [
              "<Figure size 432x360 with 1 Axes>"
            ]
          },
          "metadata": {
            "tags": [],
            "needs_background": "light"
          }
        },
        {
          "output_type": "display_data",
          "data": {
            "image/png": "[encoded data removed]",
            "text/plain": [
              "<Figure size 432x360 with 1 Axes>"
            ]
          },
          "metadata": {
            "tags": [],
            "needs_background": "light"
          }
        },
        {
          "output_type": "display_data",
          "data": {
            "image/png": "[encoded data removed]",
            "text/plain": [
              "<Figure size 432x360 with 1 Axes>"
            ]
          },
          "metadata": {
            "tags": [],
            "needs_background": "light"
          }
        },
        {
          "output_type": "display_data",
          "data": {
            "image/png": "[encoded data removed]",
            "text/plain": [
              "<Figure size 432x360 with 1 Axes>"
            ]
          },
          "metadata": {
            "tags": [],
            "needs_background": "light"
          }
        }
      ]
    },
    {
      "cell_type": "markdown",
      "metadata": {
        "id": "n8FBIiQvn1pD"
      },
      "source": [
        "<h2><I>We can clearly detect unbalance in the target dataset. So we can under sample the dataset to make it more balanced."
      ]
    },
    {
      "cell_type": "code",
      "metadata": {
        "colab": {
          "base_uri": "https://localhost:8080/"
        },
        "id": "wQrVevZFCpkt",
        "outputId": "e9458883-85ea-496c-afc9-ff9f88675e17"
      },
      "source": [
        "df1.columns"
      ],
      "execution_count": 104,
      "outputs": [
        {
          "output_type": "execute_result",
          "data": {
            "text/plain": [
              "Index(['Age', 'Occupation', 'Channel_Code', 'Vintage', 'Is_Active', 'Is_Lead'], dtype='object')"
            ]
          },
          "metadata": {
            "tags": []
          },
          "execution_count": 104
        }
      ]
    },
    {
      "cell_type": "markdown",
      "metadata": {
        "id": "0MgrvzU8pJSg"
      },
      "source": [
        "<h1>Outlier Detection"
      ]
    },
    {
      "cell_type": "code",
      "metadata": {
        "colab": {
          "base_uri": "https://localhost:8080/",
          "height": 683
        },
        "id": "dQrrtMzNCUPa",
        "outputId": "fa30da19-be7d-460c-bed2-723a6a693ca7"
      },
      "source": [
        "def distribution(col):\n",
        "  plt.figure(figsize=(6,5))\n",
        "  plt.title(col)\n",
        "  sns.boxplot(df1[col])\n",
        "  plt.show()\n",
        "\n",
        "for col in ['Age','Vintage']:\n",
        "  distribution(col)  "
      ],
      "execution_count": 105,
      "outputs": [
        {
          "output_type": "display_data",
          "data": {
            "image/png": "[encoded data removed]",
            "text/plain": [
              "<Figure size 432x360 with 1 Axes>"
            ]
          },
          "metadata": {
            "tags": [],
            "needs_background": "light"
          }
        },
        {
          "output_type": "display_data",
          "data": {
            "image/png": "[encoded data removed]",
            "text/plain": [
              "<Figure size 432x360 with 1 Axes>"
            ]
          },
          "metadata": {
            "tags": [],
            "needs_background": "light"
          }
        }
      ]
    },
    {
      "cell_type": "code",
      "metadata": {
        "id": "cTAnLz_-Ffl1"
      },
      "source": [
        "pickle.dump(df1,open('/content/drive/MyDrive/Data/filled_data.pkl','wb'))"
      ],
      "execution_count": 106,
      "outputs": []
    },
    {
      "cell_type": "code",
      "metadata": {
        "id": "Q2GpikJspvda"
      },
      "source": [
        "#train tfidf\n",
        "\n",
        "Occupation_tr, Occupation_features_tr, Occupation_idf_tr = tfidf(X_tr['Occupation'], X_tr['Occupation'])\n",
        "Channel_Code_tr, Channel_Code_features_tr, Channel_Code_idf_tr = tfidf(X_tr['Channel_Code'], X_tr['Channel_Code'])\n",
        "Is_Active_tr, Is_Active_features_tr, Is_Active_idf_tr = tfidf(X_tr['Is_Active'], X_tr['Is_Active'])\n",
        "\n",
        "age_normal_tr = normalize(X_tr, X_tr, 'Age')\n",
        "vin_normal_tr = normalize(X_tr, X_tr, 'Vintage')\n",
        "\n",
        "#test tfidf\n",
        "\n",
        "Occupation_test, Occupation_features_test, Occupation_idf_test = tfidf(X_test['Occupation'], X_tr['Occupation'])\n",
        "Channel_Code_test, Channel_Code_features_test, Channel_Code_idf_test = tfidf(X_test['Channel_Code'], X_tr['Channel_Code'])\n",
        "Is_Active_test, Is_Active_features_test, Is_Active_idf_test = tfidf(X_test['Is_Active'], X_tr['Is_Active'])\n",
        "\n",
        "age_normal_test = normalize(X_test, X_tr, 'Age')\n",
        "vin_normal_test = normalize(X_test, X_tr, 'Vintage')\n",
        "\n",
        "\n",
        "\n",
        "unsampled_tr = np.column_stack((\n",
        "                          Occupation_tr,\n",
        "                          Channel_Code_tr, \n",
        "                          Is_Active_tr,\n",
        "                          age_normal_tr,\n",
        "                          vin_normal_tr\n",
        "                         ))\n",
        "                        \n",
        "\n",
        "\n",
        "unsampled_test = np.column_stack(( \n",
        "                          Occupation_test,\n",
        "                          Channel_Code_test, \n",
        "                          Is_Active_test,\n",
        "                          age_normal_test,\n",
        "                          vin_normal_test))\n",
        "                        "
      ],
      "execution_count": 108,
      "outputs": []
    },
    {
      "cell_type": "markdown",
      "metadata": {
        "id": "NM6rpBXIo_t0"
      },
      "source": [
        "<h1>Undersampling"
      ]
    },
    {
      "cell_type": "code",
      "metadata": {
        "id": "-NN0kPN7uifS"
      },
      "source": [
        "from sklearn.preprocessing import StandardScaler\n",
        "scaler = StandardScaler()\n",
        "scaler.fit(unsampled_tr)\n",
        "unsampled_tr= scaler.transform(unsampled_tr)\n",
        "unsampled_test = scaler.transform(unsampled_test)"
      ],
      "execution_count": 109,
      "outputs": []
    },
    {
      "cell_type": "code",
      "metadata": {
        "id": "nQf4V-3wpJGs"
      },
      "source": [
        "from imblearn.under_sampling import NearMiss\n",
        "undersample = NearMiss(version=1)\n",
        "# transform the dataset\n",
        "x_uns_tr, y_uns_tr = undersample.fit_resample(unsampled_tr,y_tr)"
      ],
      "execution_count": 110,
      "outputs": []
    },
    {
      "cell_type": "code",
      "metadata": {
        "colab": {
          "base_uri": "https://localhost:8080/"
        },
        "id": "kgZiZIcdVXXU",
        "outputId": "19a5f8ca-347f-4c57-885f-51c517951db8"
      },
      "source": [
        "from sklearn.preprocessing import LabelEncoder\n",
        "encoder = LabelEncoder()\n",
        "y_uns_tr = encoder.fit_transform(y_uns_tr)\n",
        "y_uns_tr.shape"
      ],
      "execution_count": 118,
      "outputs": [
        {
          "output_type": "execute_result",
          "data": {
            "text/plain": [
              "(108086,)"
            ]
          },
          "metadata": {
            "tags": []
          },
          "execution_count": 118
        }
      ]
    },
    {
      "cell_type": "code",
      "metadata": {
        "colab": {
          "base_uri": "https://localhost:8080/",
          "height": 336
        },
        "id": "GW6zkLZ5ruXy",
        "outputId": "7e4e80b0-9432-49f4-ddcd-6da1e3e796ea"
      },
      "source": [
        "plt.figure(figsize=(6,5))\n",
        "plt.title('Is_Lead after downsampling')\n",
        "sns.countplot(y_uns_tr)\n",
        "plt.grid(True)\n",
        "plt.show()"
      ],
      "execution_count": 119,
      "outputs": [
        {
          "output_type": "display_data",
          "data": {
            "image/png": "[encoded data removed]",
            "text/plain": [
              "<Figure size 432x360 with 1 Axes>"
            ]
          },
          "metadata": {
            "tags": [],
            "needs_background": "light"
          }
        }
      ]
    },
    {
      "cell_type": "markdown",
      "metadata": {
        "id": "gB9RR4Fso56L"
      },
      "source": [
        "<h2>Correlation Matrix"
      ]
    },
    {
      "cell_type": "code",
      "metadata": {
        "colab": {
          "base_uri": "https://localhost:8080/",
          "height": 275
        },
        "id": "ctGU40QvuOmS",
        "outputId": "a4f84c94-b964-4d3f-e23d-e2c0387958d8"
      },
      "source": [
        "plt.matshow(pd.DataFrame(unsampled_tr).corr())\n",
        "plt.show()"
      ],
      "execution_count": 113,
      "outputs": [
        {
          "output_type": "display_data",
          "data": {
            "image/png": "[encoded data removed]",
            "text/plain": [
              "<Figure size 288x288 with 1 Axes>"
            ]
          },
          "metadata": {
            "tags": [],
            "needs_background": "light"
          }
        }
      ]
    },
    {
      "cell_type": "markdown",
      "metadata": {
        "id": "8s5PlUe7YOWj"
      },
      "source": [
        "<h1>Baseline Model"
      ]
    },
    {
      "cell_type": "markdown",
      "metadata": {
        "id": "z1M_0F6Toxsv"
      },
      "source": [
        "<h2>Logistic regression"
      ]
    },
    {
      "cell_type": "code",
      "metadata": {
        "colab": {
          "base_uri": "https://localhost:8080/"
        },
        "id": "BxsH9wbFZjso",
        "outputId": "9842e9f5-89fc-4990-fa9a-883001caa0a4"
      },
      "source": [
        "encoder = LabelEncoder()\n",
        "y_test = encoder.fit_transform(y_test)\n",
        "y_test.shape"
      ],
      "execution_count": 123,
      "outputs": [
        {
          "output_type": "execute_result",
          "data": {
            "text/plain": [
              "(54100,)"
            ]
          },
          "metadata": {
            "tags": []
          },
          "execution_count": 123
        }
      ]
    },
    {
      "cell_type": "code",
      "metadata": {
        "colab": {
          "base_uri": "https://localhost:8080/",
          "height": 1000
        },
        "id": "e_FA_0-9X-2U",
        "outputId": "e082d704-d6f0-438a-d43f-231f950fa62c"
      },
      "source": [
        "import warnings\n",
        "warnings.simplefilter(\"ignore\")\n",
        "from sklearn.linear_model import LogisticRegression\n",
        "from sklearn.metrics import accuracy_score, plot_confusion_matrix, roc_auc_score\n",
        "c = [0.0000001,0.000001,0.00001,0.0001,0.001,0.01,0.1,10,100,1000,10000]\n",
        "roc_tr = []\n",
        "roc_test = []\n",
        "acc_tr = []\n",
        "acc_test = []\n",
        "for C in c:\n",
        "  log = LogisticRegression(penalty='l2', C=C)\n",
        "  log.fit(x_uns_tr,y_uns_tr)\n",
        "  roc_tr.append(roc_auc_score(y_uns_tr,log.predict(x_uns_tr)))\n",
        "  roc_test.append(roc_auc_score(y_test,log.predict(unsampled_test)))\n",
        "  acc_tr.append(accuracy_score(y_uns_tr,log.predict(x_uns_tr)))\n",
        "  acc_test.append(accuracy_score(y_test,log.predict(unsampled_test)))\n",
        "  print('TRAINING DATA ROC SCORE ===', roc_auc_score(y_uns_tr,log.predict(x_uns_tr)), ' ,LEARNING RATE === ',C)\n",
        "  print('TESTING DATA ROC SCORE ===', roc_auc_score(y_test,log.predict(unsampled_test)), ' ,LEARNING RATE === ',C)\n",
        "  print('TRAINING DATA ACCURACY SCORE ===', accuracy_score(y_uns_tr,log.predict(x_uns_tr)), ' ,LEARNING RATE === ',C)\n",
        "  print('TESTING DATA ACCURACY SCORE ===',accuracy_score(y_test,log.predict(unsampled_test)), ' ,LEARNING RATE === ',C)\n",
        "\n",
        "  plot_confusion_matrix(log,unsampled_test,y_test)\n",
        "  plt.show()\n",
        "  print('='*50)\n",
        "\n",
        "plt.figure(figsize=(15,10))\n",
        "plt.title('LOGISTIC REGRESSION, PENALTY= l2')\n",
        "plt.plot(c,roc_tr, linewidth=2, c='red')\n",
        "plt.plot(c,roc_test, linewidth=2, c='blue')\n",
        "plt.xlabel('Learning rate')\n",
        "plt.ylabel('ROC SCORE')\n",
        "plt.legend(['Train','Test'])\n",
        "plt.grid(True)\n",
        "plt.show()\n",
        "    \n",
        "plt.figure(figsize=(15,10))\n",
        "plt.title('LOGISTIC REGRESSION, PENALTY= l2')\n",
        "plt.plot(c,acc_tr, linewidth=2, c='red')\n",
        "plt.plot(c,acc_test, linewidth=2, c='blue')\n",
        "plt.xlabel('Learning rate')\n",
        "plt.ylabel('ACCURACY SCORE')\n",
        "plt.legend(['Train','Test'])\n",
        "plt.grid(True)\n",
        "plt.show()\n",
        "\n"
      ],
      "execution_count": 125,
      "outputs": [
        {
          "output_type": "stream",
          "text": [
            "TRAINING DATA ROC SCORE === 0.6994800436689304  ,LEARNING RATE ===  1e-07\n",
            "TESTING DATA ROC SCORE === 0.6310358571868266  ,LEARNING RATE ===  1e-07\n",
            "TRAINING DATA ACCURACY SCORE === 0.6994800436689304  ,LEARNING RATE ===  1e-07\n",
            "TESTING DATA ACCURACY SCORE === 0.6053234750462108  ,LEARNING RATE ===  1e-07\n"
          ],
          "name": "stdout"
        },
        {
          "output_type": "display_data",
          "data": {
            "image/png": "[encoded data removed]",
            "text/plain": [
              "<Figure size 432x288 with 2 Axes>"
            ]
          },
          "metadata": {
            "tags": [],
            "needs_background": "light"
          }
        },
        {
          "output_type": "stream",
          "text": [
            "==================================================\n",
            "TRAINING DATA ROC SCORE === 0.7023758858686601  ,LEARNING RATE ===  1e-06\n",
            "TESTING DATA ROC SCORE === 0.632471375807941  ,LEARNING RATE ===  1e-06\n",
            "TRAINING DATA ACCURACY SCORE === 0.7023758858686602  ,LEARNING RATE ===  1e-06\n",
            "TESTING DATA ACCURACY SCORE === 0.605083179297597  ,LEARNING RATE ===  1e-06\n"
          ],
          "name": "stdout"
        },
        {
          "output_type": "display_data",
          "data": {
            "image/png": "[encoded data removed]",
            "text/plain": [
              "<Figure size 432x288 with 2 Axes>"
            ]
          },
          "metadata": {
            "tags": [],
            "needs_background": "light"
          }
        },
        {
          "output_type": "stream",
          "text": [
            "==================================================\n",
            "TRAINING DATA ROC SCORE === 0.7035508761541734  ,LEARNING RATE ===  1e-05\n",
            "TESTING DATA ROC SCORE === 0.6338850415512465  ,LEARNING RATE ===  1e-05\n",
            "TRAINING DATA ACCURACY SCORE === 0.7035508761541736  ,LEARNING RATE ===  1e-05\n",
            "TESTING DATA ACCURACY SCORE === 0.6067467652495379  ,LEARNING RATE ===  1e-05\n"
          ],
          "name": "stdout"
        },
        {
          "output_type": "display_data",
          "data": {
            "image/png": "[encoded data removed]",
            "text/plain": [
              "<Figure size 432x288 with 2 Axes>"
            ]
          },
          "metadata": {
            "tags": [],
            "needs_background": "light"
          }
        },
        {
          "output_type": "stream",
          "text": [
            "==================================================\n",
            "TRAINING DATA ROC SCORE === 0.708047295671965  ,LEARNING RATE ===  0.0001\n",
            "TESTING DATA ROC SCORE === 0.6421186518928901  ,LEARNING RATE ===  0.0001\n",
            "TRAINING DATA ACCURACY SCORE === 0.7080472956719649  ,LEARNING RATE ===  0.0001\n",
            "TESTING DATA ACCURACY SCORE === 0.6128280961182995  ,LEARNING RATE ===  0.0001\n"
          ],
          "name": "stdout"
        },
        {
          "output_type": "display_data",
          "data": {
            "image/png": "[encoded data removed]",
            "text/plain": [
              "<Figure size 432x288 with 2 Axes>"
            ]
          },
          "metadata": {
            "tags": [],
            "needs_background": "light"
          }
        },
        {
          "output_type": "stream",
          "text": [
            "==================================================\n",
            "TRAINING DATA ROC SCORE === 0.7084821345965249  ,LEARNING RATE ===  0.001\n",
            "TESTING DATA ROC SCORE === 0.6472688519544476  ,LEARNING RATE ===  0.001\n",
            "TRAINING DATA ACCURACY SCORE === 0.708482134596525  ,LEARNING RATE ===  0.001\n",
            "TESTING DATA ACCURACY SCORE === 0.6202218114602588  ,LEARNING RATE ===  0.001\n"
          ],
          "name": "stdout"
        },
        {
          "output_type": "display_data",
          "data": {
            "image/png": "[encoded data removed]",
            "text/plain": [
              "<Figure size 432x288 with 2 Axes>"
            ]
          },
          "metadata": {
            "tags": [],
            "needs_background": "light"
          }
        },
        {
          "output_type": "stream",
          "text": [
            "==================================================\n",
            "TRAINING DATA ROC SCORE === 0.7079085172917862  ,LEARNING RATE ===  0.01\n",
            "TESTING DATA ROC SCORE === 0.6466657433056324  ,LEARNING RATE ===  0.01\n",
            "TRAINING DATA ACCURACY SCORE === 0.7079085172917862  ,LEARNING RATE ===  0.01\n",
            "TESTING DATA ACCURACY SCORE === 0.6212384473197782  ,LEARNING RATE ===  0.01\n"
          ],
          "name": "stdout"
        },
        {
          "output_type": "display_data",
          "data": {
            "image/png": "[encoded data removed]",
            "text/plain": [
              "<Figure size 432x288 with 2 Axes>"
            ]
          },
          "metadata": {
            "tags": [],
            "needs_background": "light"
          }
        },
        {
          "output_type": "stream",
          "text": [
            "==================================================\n",
            "TRAINING DATA ROC SCORE === 0.7079917843198933  ,LEARNING RATE ===  0.1\n",
            "TESTING DATA ROC SCORE === 0.6466927516158818  ,LEARNING RATE ===  0.1\n",
            "TRAINING DATA ACCURACY SCORE === 0.7079917843198934  ,LEARNING RATE ===  0.1\n",
            "TESTING DATA ACCURACY SCORE === 0.621441774491682  ,LEARNING RATE ===  0.1\n"
          ],
          "name": "stdout"
        },
        {
          "output_type": "display_data",
          "data": {
            "image/png": "[encoded data removed]",
            "text/plain": [
              "<Figure size 432x288 with 2 Axes>"
            ]
          },
          "metadata": {
            "tags": [],
            "needs_background": "light"
          }
        },
        {
          "output_type": "stream",
          "text": [
            "==================================================\n",
            "TRAINING DATA ROC SCORE === 0.7080010362119054  ,LEARNING RATE ===  10\n",
            "TESTING DATA ROC SCORE === 0.6467204524469067  ,LEARNING RATE ===  10\n",
            "TRAINING DATA ACCURACY SCORE === 0.7080010362119054  ,LEARNING RATE ===  10\n",
            "TESTING DATA ACCURACY SCORE === 0.6214787430683919  ,LEARNING RATE ===  10\n"
          ],
          "name": "stdout"
        },
        {
          "output_type": "display_data",
          "data": {
            "image/png": "[encoded data removed]",
            "text/plain": [
              "<Figure size 432x288 with 2 Axes>"
            ]
          },
          "metadata": {
            "tags": [],
            "needs_background": "light"
          }
        },
        {
          "output_type": "stream",
          "text": [
            "==================================================\n",
            "TRAINING DATA ROC SCORE === 0.7079825324278815  ,LEARNING RATE ===  100\n",
            "TESTING DATA ROC SCORE === 0.6466927516158818  ,LEARNING RATE ===  100\n",
            "TRAINING DATA ACCURACY SCORE === 0.7079825324278815  ,LEARNING RATE ===  100\n",
            "TESTING DATA ACCURACY SCORE === 0.621441774491682  ,LEARNING RATE ===  100\n"
          ],
          "name": "stdout"
        },
        {
          "output_type": "display_data",
          "data": {
            "image/png": "[encoded data removed]",
            "text/plain": [
              "<Figure size 432x288 with 2 Axes>"
            ]
          },
          "metadata": {
            "tags": [],
            "needs_background": "light"
          }
        },
        {
          "output_type": "stream",
          "text": [
            "==================================================\n",
            "TRAINING DATA ROC SCORE === 0.7079825324278815  ,LEARNING RATE ===  1000\n",
            "TESTING DATA ROC SCORE === 0.6466927516158818  ,LEARNING RATE ===  1000\n",
            "TRAINING DATA ACCURACY SCORE === 0.7079825324278815  ,LEARNING RATE ===  1000\n",
            "TESTING DATA ACCURACY SCORE === 0.621441774491682  ,LEARNING RATE ===  1000\n"
          ],
          "name": "stdout"
        },
        {
          "output_type": "display_data",
          "data": {
            "image/png": "[encoded data removed]",
            "text/plain": [
              "<Figure size 432x288 with 2 Axes>"
            ]
          },
          "metadata": {
            "tags": [],
            "needs_background": "light"
          }
        },
        {
          "output_type": "stream",
          "text": [
            "==================================================\n",
            "TRAINING DATA ROC SCORE === 0.7079825324278815  ,LEARNING RATE ===  10000\n",
            "TESTING DATA ROC SCORE === 0.6466927516158818  ,LEARNING RATE ===  10000\n",
            "TRAINING DATA ACCURACY SCORE === 0.7079825324278815  ,LEARNING RATE ===  10000\n",
            "TESTING DATA ACCURACY SCORE === 0.621441774491682  ,LEARNING RATE ===  10000\n"
          ],
          "name": "stdout"
        },
        {
          "output_type": "display_data",
          "data": {
            "image/png": "[encoded data removed]",
            "text/plain": [
              "<Figure size 432x288 with 2 Axes>"
            ]
          },
          "metadata": {
            "tags": [],
            "needs_background": "light"
          }
        },
        {
          "output_type": "stream",
          "text": [
            "==================================================\n"
          ],
          "name": "stdout"
        },
        {
          "output_type": "display_data",
          "data": {
            "image/png": "[encoded data removed]",
            "text/plain": [
              "<Figure size 1080x720 with 1 Axes>"
            ]
          },
          "metadata": {
            "tags": [],
            "needs_background": "light"
          }
        },
        {
          "output_type": "display_data",
          "data": {
            "image/png": "[encoded data removed]",
            "text/plain": [
              "<Figure size 1080x720 with 1 Axes>"
            ]
          },
          "metadata": {
            "tags": [],
            "needs_background": "light"
          }
        }
      ]
    },
    {
      "cell_type": "code",
      "metadata": {
        "id": "Zl5lEFZQbQY_"
      },
      "source": [
        ""
      ],
      "execution_count": null,
      "outputs": []
    },
    {
      "cell_type": "markdown",
      "metadata": {
        "id": "jTcsUg3NoqSp"
      },
      "source": [
        "<h1>Random Forest Classifier"
      ]
    },
    {
      "cell_type": "code",
      "metadata": {
        "colab": {
          "base_uri": "https://localhost:8080/"
        },
        "id": "vaSIkKuHnVob",
        "outputId": "a84de576-8a95-462d-960d-898f9582c310"
      },
      "source": [
        "X = x_uns_tr\n",
        "Y= y_uns_tr\n",
        "x = unsampled_test\n",
        "y = y_test\n",
        "import warnings\n",
        "warnings.simplefilter(\"ignore\")\n",
        "from sklearn.neighbors import KNeighborsClassifier\n",
        "from sklearn.model_selection import RandomizedSearchCV\n",
        "from sklearn.ensemble import RandomForestClassifier\n",
        "rf= RandomForestClassifier()\n",
        "parameters = {'n_estimators':[1,3,5,7,9,11,21,31,51,71,101,201,301,401,501,701,1000],\n",
        "              'max_depth':[1,3,5,7,9,11,21,31,51,71,101,201,301,401,501,701,1000],\n",
        "              'class_weight':['balanced', 'balanced_subsample']\n",
        "              }\n",
        "clf = RandomizedSearchCV(rf, parameters)\n",
        "results = clf.fit(X,Y)\n",
        "results"
      ],
      "execution_count": 126,
      "outputs": [
        {
          "output_type": "execute_result",
          "data": {
            "text/plain": [
              "RandomizedSearchCV(cv=None, error_score=nan,\n",
              "                   estimator=RandomForestClassifier(bootstrap=True,\n",
              "                                                    ccp_alpha=0.0,\n",
              "                                                    class_weight=None,\n",
              "                                                    criterion='gini',\n",
              "                                                    max_depth=None,\n",
              "                                                    max_features='auto',\n",
              "                                                    max_leaf_nodes=None,\n",
              "                                                    max_samples=None,\n",
              "                                                    min_impurity_decrease=0.0,\n",
              "                                                    min_impurity_split=None,\n",
              "                                                    min_samples_leaf=1,\n",
              "                                                    min_samples_split=2,\n",
              "                                                    min_weight_fraction_leaf=0.0,\n",
              "                                                    n_estimators=100,\n",
              "                                                    n_j...\n",
              "                   iid='deprecated', n_iter=10, n_jobs=None,\n",
              "                   param_distributions={'class_weight': ['balanced',\n",
              "                                                         'balanced_subsample'],\n",
              "                                        'max_depth': [1, 3, 5, 7, 9, 11, 21, 31,\n",
              "                                                      51, 71, 101, 201, 301,\n",
              "                                                      401, 501, 701, 1000],\n",
              "                                        'n_estimators': [1, 3, 5, 7, 9, 11, 21,\n",
              "                                                         31, 51, 71, 101, 201,\n",
              "                                                         301, 401, 501, 701,\n",
              "                                                         1000]},\n",
              "                   pre_dispatch='2*n_jobs', random_state=None, refit=True,\n",
              "                   return_train_score=False, scoring=None, verbose=0)"
            ]
          },
          "metadata": {
            "tags": []
          },
          "execution_count": 126
        }
      ]
    },
    {
      "cell_type": "code",
      "metadata": {
        "colab": {
          "base_uri": "https://localhost:8080/"
        },
        "id": "kNRp_a_S5q_p",
        "outputId": "29c44235-4b28-4e41-ab75-2db220e87bc0"
      },
      "source": [
        "results.best_params_"
      ],
      "execution_count": 127,
      "outputs": [
        {
          "output_type": "execute_result",
          "data": {
            "text/plain": [
              "{'class_weight': 'balanced', 'max_depth': 5, 'n_estimators': 3}"
            ]
          },
          "metadata": {
            "tags": []
          },
          "execution_count": 127
        }
      ]
    },
    {
      "cell_type": "code",
      "metadata": {
        "id": "cOstKXDvbo_J"
      },
      "source": [
        "pickle.dump([X,Y,x,y],open('/content/drive/MyDrive/Data/training_data.pkl','wb'))"
      ],
      "execution_count": 128,
      "outputs": []
    },
    {
      "cell_type": "code",
      "metadata": {
        "colab": {
          "base_uri": "https://localhost:8080/"
        },
        "id": "ZZbDnNP-6Mdy",
        "outputId": "aa4d91ee-b48c-4508-d7d6-1e804cb1e09d"
      },
      "source": [
        "rf_best= RandomForestClassifier(n_estimators=3, max_depth=5,class_weight='balanced')\n",
        "rf_best.fit(X,Y)"
      ],
      "execution_count": 129,
      "outputs": [
        {
          "output_type": "execute_result",
          "data": {
            "text/plain": [
              "RandomForestClassifier(bootstrap=True, ccp_alpha=0.0, class_weight='balanced',\n",
              "                       criterion='gini', max_depth=5, max_features='auto',\n",
              "                       max_leaf_nodes=None, max_samples=None,\n",
              "                       min_impurity_decrease=0.0, min_impurity_split=None,\n",
              "                       min_samples_leaf=1, min_samples_split=2,\n",
              "                       min_weight_fraction_leaf=0.0, n_estimators=3,\n",
              "                       n_jobs=None, oob_score=False, random_state=None,\n",
              "                       verbose=0, warm_start=False)"
            ]
          },
          "metadata": {
            "tags": []
          },
          "execution_count": 129
        }
      ]
    },
    {
      "cell_type": "code",
      "metadata": {
        "colab": {
          "base_uri": "https://localhost:8080/",
          "height": 329
        },
        "id": "XMwbf_nR6ksr",
        "outputId": "b700144a-2d33-42d9-82c0-e6be28850e66"
      },
      "source": [
        "from sklearn.metrics import accuracy_score, roc_auc_score,plot_confusion_matrix\n",
        "print(roc_auc_score(y,rf_best.predict(x)))\n",
        "print(accuracy_score(y,rf_best.predict(x)))\n",
        "plot_confusion_matrix(rf_best,x,y)\n",
        "plt.title('Confusion Matrix RandomForest')\n",
        "plt.show()"
      ],
      "execution_count": 130,
      "outputs": [
        {
          "output_type": "stream",
          "text": [
            "0.6585369344413665\n",
            "0.6434380776340111\n"
          ],
          "name": "stdout"
        },
        {
          "output_type": "display_data",
          "data": {
            "image/png": "[encoded data removed]",
            "text/plain": [
              "<Figure size 432x288 with 2 Axes>"
            ]
          },
          "metadata": {
            "tags": [],
            "needs_background": "light"
          }
        }
      ]
    },
    {
      "cell_type": "markdown",
      "metadata": {
        "id": "oCpdCMrmoknN"
      },
      "source": [
        "<h1>Dradient Boosting Algorithm "
      ]
    },
    {
      "cell_type": "code",
      "metadata": {
        "colab": {
          "base_uri": "https://localhost:8080/"
        },
        "id": "P1UIKq5r-Ymy",
        "outputId": "69f1d33b-542c-4efc-c3c7-bb4b72ea701d"
      },
      "source": [
        "import warnings\n",
        "warnings.simplefilter(\"ignore\")\n",
        "from sklearn.neighbors import KNeighborsClassifier\n",
        "from sklearn.model_selection import RandomizedSearchCV\n",
        "from sklearn.ensemble import GradientBoostingClassifier\n",
        "gbdt= GradientBoostingClassifier()\n",
        "parameters = {'n_estimators':[1,3,5,7,9,11,21,31,51,71,101,201,301,401,501,701,1000],\n",
        "              'max_depth':[1,3,5,7,9,11,21,31,51,71,101,201,301,401,501,701,1000],\n",
        "              'learning_rate':[0.00001,0.0001,0.001,0.01,0.1,1,10,100,1000,10000],\n",
        "              'max_features':['auto', 'sqrt', 'log2'],\n",
        "              'subsample':[0.5],\n",
        "              'min_samples_split':[10]\n",
        "              }\n",
        "clf = RandomizedSearchCV(gbdt, parameters)\n",
        "results = clf.fit(X,Y)\n",
        "results"
      ],
      "execution_count": 131,
      "outputs": [
        {
          "output_type": "execute_result",
          "data": {
            "text/plain": [
              "RandomizedSearchCV(cv=None, error_score=nan,\n",
              "                   estimator=GradientBoostingClassifier(ccp_alpha=0.0,\n",
              "                                                        criterion='friedman_mse',\n",
              "                                                        init=None,\n",
              "                                                        learning_rate=0.1,\n",
              "                                                        loss='deviance',\n",
              "                                                        max_depth=3,\n",
              "                                                        max_features=None,\n",
              "                                                        max_leaf_nodes=None,\n",
              "                                                        min_impurity_decrease=0.0,\n",
              "                                                        min_impurity_split=None,\n",
              "                                                        min_samples_leaf=1,\n",
              "                                                        min_samples_split=2,\n",
              "                                                        min_weight_fraction_leaf=0.0,\n",
              "                                                        n_estimators=100,\n",
              "                                                        n_...\n",
              "                                                          0.01, 0.1, 1, 10, 100,\n",
              "                                                          1000, 10000],\n",
              "                                        'max_depth': [1, 3, 5, 7, 9, 11, 21, 31,\n",
              "                                                      51, 71, 101, 201, 301,\n",
              "                                                      401, 501, 701, 1000],\n",
              "                                        'max_features': ['auto', 'sqrt',\n",
              "                                                         'log2'],\n",
              "                                        'min_samples_split': [10],\n",
              "                                        'n_estimators': [1, 3, 5, 7, 9, 11, 21,\n",
              "                                                         31, 51, 71, 101, 201,\n",
              "                                                         301, 401, 501, 701,\n",
              "                                                         1000],\n",
              "                                        'subsample': [0.5]},\n",
              "                   pre_dispatch='2*n_jobs', random_state=None, refit=True,\n",
              "                   return_train_score=False, scoring=None, verbose=0)"
            ]
          },
          "metadata": {
            "tags": []
          },
          "execution_count": 131
        }
      ]
    },
    {
      "cell_type": "code",
      "metadata": {
        "colab": {
          "base_uri": "https://localhost:8080/"
        },
        "id": "IxIuu0E6Aei2",
        "outputId": "954e1fd3-5b90-4910-f850-2b98cfa5b44a"
      },
      "source": [
        "results.best_params_"
      ],
      "execution_count": 132,
      "outputs": [
        {
          "output_type": "execute_result",
          "data": {
            "text/plain": [
              "{'learning_rate': 1e-05,\n",
              " 'max_depth': 31,\n",
              " 'max_features': 'sqrt',\n",
              " 'min_samples_split': 10,\n",
              " 'n_estimators': 51,\n",
              " 'subsample': 0.5}"
            ]
          },
          "metadata": {
            "tags": []
          },
          "execution_count": 132
        }
      ]
    },
    {
      "cell_type": "code",
      "metadata": {
        "colab": {
          "base_uri": "https://localhost:8080/"
        },
        "id": "17KRSbfbdjNY",
        "outputId": "fe79dbd2-47e6-4424-b827-10428dbf61c5"
      },
      "source": [
        "gbdt_best= GradientBoostingClassifier(learning_rate= 1e-05,\n",
        " max_depth= 31,\n",
        " max_features= 'sqrt',\n",
        " min_samples_split= 10,\n",
        " n_estimators = 51,\n",
        " subsample = 0.5)\n",
        "gbdt_best.fit(X,Y)"
      ],
      "execution_count": 133,
      "outputs": [
        {
          "output_type": "execute_result",
          "data": {
            "text/plain": [
              "GradientBoostingClassifier(ccp_alpha=0.0, criterion='friedman_mse', init=None,\n",
              "                           learning_rate=1e-05, loss='deviance', max_depth=31,\n",
              "                           max_features='sqrt', max_leaf_nodes=None,\n",
              "                           min_impurity_decrease=0.0, min_impurity_split=None,\n",
              "                           min_samples_leaf=1, min_samples_split=10,\n",
              "                           min_weight_fraction_leaf=0.0, n_estimators=51,\n",
              "                           n_iter_no_change=None, presort='deprecated',\n",
              "                           random_state=None, subsample=0.5, tol=0.0001,\n",
              "                           validation_fraction=0.1, verbose=0,\n",
              "                           warm_start=False)"
            ]
          },
          "metadata": {
            "tags": []
          },
          "execution_count": 133
        }
      ]
    },
    {
      "cell_type": "code",
      "metadata": {
        "colab": {
          "base_uri": "https://localhost:8080/",
          "height": 329
        },
        "id": "Yor9mbN5FWPI",
        "outputId": "6049c510-74da-424e-e92a-027663a0ab61"
      },
      "source": [
        "print(roc_auc_score(y,gbdt_best.predict(x)))\n",
        "print(accuracy_score(y,gbdt_best.predict(x)))\n",
        "plot_confusion_matrix(gbdt_best,x,y)\n",
        "plt.title('Confusion Matrix GBDT')\n",
        "plt.show()"
      ],
      "execution_count": 134,
      "outputs": [
        {
          "output_type": "stream",
          "text": [
            "0.6274174361341951\n",
            "0.6046765249537893\n"
          ],
          "name": "stdout"
        },
        {
          "output_type": "display_data",
          "data": {
            "image/png": "[encoded data removed]",
            "text/plain": [
              "<Figure size 432x288 with 2 Axes>"
            ]
          },
          "metadata": {
            "tags": [],
            "needs_background": "light"
          }
        }
      ]
    },
    {
      "cell_type": "markdown",
      "metadata": {
        "id": "STb0xGDdwQh6"
      },
      "source": [
        "<h1>Decision Tree"
      ]
    },
    {
      "cell_type": "code",
      "metadata": {
        "colab": {
          "base_uri": "https://localhost:8080/",
          "height": 1000
        },
        "id": "cuhUs25gjKH4",
        "outputId": "cac0f720-f25b-4cf6-c317-d7aa5672c814"
      },
      "source": [
        "import warnings\n",
        "warnings.simplefilter(\"ignore\")\n",
        "from sklearn.tree import DecisionTreeClassifier\n",
        "from sklearn.metrics import accuracy_score, plot_confusion_matrix, roc_auc_score\n",
        "c = [3,5,7,9,11,13,15,17,19,21,31,41,51,61,71,81,91]\n",
        "roc_tr = []\n",
        "roc_test = []\n",
        "acc_tr = []\n",
        "acc_test = []\n",
        "for C in c:\n",
        "  dtree = DecisionTreeClassifier(max_depth=C)\n",
        "  dtree.fit(X,Y)\n",
        "  roc_tr.append(roc_auc_score(Y,dtree.predict(X)))\n",
        "  roc_test.append(roc_auc_score(y,dtree.predict(x)))\n",
        "  acc_tr.append(accuracy_score(Y,dtree.predict(X)))\n",
        "  acc_test.append(accuracy_score(y,dtree.predict(x)))\n",
        "  print('TRAINING DATA ROC SCORE ===', roc_auc_score(Y,dtree.predict(X)), ' ,MAX DEPTH === ',C)\n",
        "  print('TESTING DATA ROC SCORE ===', roc_auc_score(y,dtree.predict(x)), ' ,MAX DEPTH === ',C)\n",
        "  print('TRAINING DATA ACCURACY SCORE ===', accuracy_score(Y,dtree.predict(X)), ' ,MAX DEPTH === ',C)\n",
        "  print('TESTING DATA ACCURACY SCORE ===', accuracy_score(y,dtree.predict(x)), ' ,MAX DEPTH === ',C)\n",
        "\n",
        "  plot_confusion_matrix(dtree,x,y)\n",
        "  plt.show()\n",
        "  print('='*50)\n",
        "\n",
        "plt.figure(figsize=(15,10))\n",
        "plt.title('svc')\n",
        "plt.plot(c,roc_tr, linewidth=2, c='red')\n",
        "plt.plot(c,roc_test, linewidth=2, c='blue')\n",
        "plt.xlabel('Learning rate')\n",
        "plt.ylabel('ROC SCORE')\n",
        "plt.legend(['Train','Test'])\n",
        "plt.grid(True)\n",
        "plt.show()\n",
        "    \n",
        "plt.figure(figsize=(15,10))\n",
        "plt.title('svc')\n",
        "plt.plot(c,acc_tr, linewidth=2, c='red')\n",
        "plt.plot(c,acc_test, linewidth=2, c='blue')\n",
        "plt.xlabel('Learning rate')\n",
        "plt.ylabel('ACCURACY SCORE')\n",
        "plt.legend(['Train','Test'])\n",
        "plt.grid(True)\n",
        "plt.show()\n",
        "\n",
        "pickle.dump(dtree,open('/content/drive/MyDrive/Data/dtree.pkl','wb'))\n",
        "#Dtree = pickle.load(open('/content/drive/MyDrive/Data/Dtree.pkl','rb'))"
      ],
      "execution_count": 135,
      "outputs": [
        {
          "output_type": "stream",
          "text": [
            "TRAINING DATA ROC SCORE === 0.7248302277815813  ,MAX DEPTH ===  3\n",
            "TESTING DATA ROC SCORE === 0.6436059556786703  ,MAX DEPTH ===  3\n",
            "TRAINING DATA ACCURACY SCORE === 0.7248302277815813  ,MAX DEPTH ===  3\n",
            "TESTING DATA ACCURACY SCORE === 0.6001478743068391  ,MAX DEPTH ===  3\n"
          ],
          "name": "stdout"
        },
        {
          "output_type": "display_data",
          "data": {
            "image/png": "[encoded data removed]",
            "text/plain": [
              "<Figure size 432x288 with 2 Axes>"
            ]
          },
          "metadata": {
            "tags": [],
            "needs_background": "light"
          }
        },
        {
          "output_type": "stream",
          "text": [
            "==================================================\n",
            "TRAINING DATA ROC SCORE === 0.7352386062949874  ,MAX DEPTH ===  5\n",
            "TESTING DATA ROC SCORE === 0.6582035241612804  ,MAX DEPTH ===  5\n",
            "TRAINING DATA ACCURACY SCORE === 0.7352386062949873  ,MAX DEPTH ===  5\n",
            "TESTING DATA ACCURACY SCORE === 0.6265064695009243  ,MAX DEPTH ===  5\n"
          ],
          "name": "stdout"
        },
        {
          "output_type": "display_data",
          "data": {
            "image/png": "[encoded data removed]",
            "text/plain": [
              "<Figure size 432x288 with 2 Axes>"
            ]
          },
          "metadata": {
            "tags": [],
            "needs_background": "light"
          }
        },
        {
          "output_type": "stream",
          "text": [
            "==================================================\n",
            "TRAINING DATA ROC SCORE === 0.7398460485169217  ,MAX DEPTH ===  7\n",
            "TESTING DATA ROC SCORE === 0.6595847953216374  ,MAX DEPTH ===  7\n",
            "TRAINING DATA ACCURACY SCORE === 0.7398460485169217  ,MAX DEPTH ===  7\n",
            "TESTING DATA ACCURACY SCORE === 0.6526802218114602  ,MAX DEPTH ===  7\n"
          ],
          "name": "stdout"
        },
        {
          "output_type": "display_data",
          "data": {
            "image/png": "[encoded data removed]",
            "text/plain": [
              "<Figure size 432x288 with 2 Axes>"
            ]
          },
          "metadata": {
            "tags": [],
            "needs_background": "light"
          }
        },
        {
          "output_type": "stream",
          "text": [
            "==================================================\n",
            "TRAINING DATA ROC SCORE === 0.7444257350628205  ,MAX DEPTH ===  9\n",
            "TESTING DATA ROC SCORE === 0.6554620652508465  ,MAX DEPTH ===  9\n",
            "TRAINING DATA ACCURACY SCORE === 0.7444257350628204  ,MAX DEPTH ===  9\n",
            "TESTING DATA ACCURACY SCORE === 0.6393530499075786  ,MAX DEPTH ===  9\n"
          ],
          "name": "stdout"
        },
        {
          "output_type": "display_data",
          "data": {
            "image/png": "[encoded data removed]",
            "text/plain": [
              "<Figure size 432x288 with 2 Axes>"
            ]
          },
          "metadata": {
            "tags": [],
            "needs_background": "light"
          }
        },
        {
          "output_type": "stream",
          "text": [
            "==================================================\n",
            "TRAINING DATA ROC SCORE === 0.7471735469903595  ,MAX DEPTH ===  11\n",
            "TESTING DATA ROC SCORE === 0.6533204062788549  ,MAX DEPTH ===  11\n",
            "TRAINING DATA ACCURACY SCORE === 0.7471735469903595  ,MAX DEPTH ===  11\n",
            "TESTING DATA ACCURACY SCORE === 0.6352495378927911  ,MAX DEPTH ===  11\n"
          ],
          "name": "stdout"
        },
        {
          "output_type": "display_data",
          "data": {
            "image/png": "[encoded data removed]",
            "text/plain": [
              "<Figure size 432x288 with 2 Axes>"
            ]
          },
          "metadata": {
            "tags": [],
            "needs_background": "light"
          }
        },
        {
          "output_type": "stream",
          "text": [
            "==================================================\n",
            "TRAINING DATA ROC SCORE === 0.7511148529874359  ,MAX DEPTH ===  13\n",
            "TESTING DATA ROC SCORE === 0.6471592797783933  ,MAX DEPTH ===  13\n",
            "TRAINING DATA ACCURACY SCORE === 0.751114852987436  ,MAX DEPTH ===  13\n",
            "TESTING DATA ACCURACY SCORE === 0.629815157116451  ,MAX DEPTH ===  13\n"
          ],
          "name": "stdout"
        },
        {
          "output_type": "display_data",
          "data": {
            "image/png": "[encoded data removed]",
            "text/plain": [
              "<Figure size 432x288 with 2 Axes>"
            ]
          },
          "metadata": {
            "tags": [],
            "needs_background": "light"
          }
        },
        {
          "output_type": "stream",
          "text": [
            "==================================================\n",
            "TRAINING DATA ROC SCORE === 0.7561663860259424  ,MAX DEPTH ===  15\n",
            "TESTING DATA ROC SCORE === 0.635658971991382  ,MAX DEPTH ===  15\n",
            "TRAINING DATA ACCURACY SCORE === 0.7561663860259423  ,MAX DEPTH ===  15\n",
            "TESTING DATA ACCURACY SCORE === 0.6188909426987061  ,MAX DEPTH ===  15\n"
          ],
          "name": "stdout"
        },
        {
          "output_type": "display_data",
          "data": {
            "image/png": "[encoded data removed]",
            "text/plain": [
              "<Figure size 432x288 with 2 Axes>"
            ]
          },
          "metadata": {
            "tags": [],
            "needs_background": "light"
          }
        },
        {
          "output_type": "stream",
          "text": [
            "==================================================\n",
            "TRAINING DATA ROC SCORE === 0.7609033547360434  ,MAX DEPTH ===  17\n",
            "TESTING DATA ROC SCORE === 0.6307802400738689  ,MAX DEPTH ===  17\n",
            "TRAINING DATA ACCURACY SCORE === 0.7609033547360435  ,MAX DEPTH ===  17\n",
            "TESTING DATA ACCURACY SCORE === 0.6131977818853974  ,MAX DEPTH ===  17\n"
          ],
          "name": "stdout"
        },
        {
          "output_type": "display_data",
          "data": {
            "image/png": "[encoded data removed]",
            "text/plain": [
              "<Figure size 432x288 with 2 Axes>"
            ]
          },
          "metadata": {
            "tags": [],
            "needs_background": "light"
          }
        },
        {
          "output_type": "stream",
          "text": [
            "==================================================\n",
            "TRAINING DATA ROC SCORE === 0.7636419147715708  ,MAX DEPTH ===  19\n",
            "TESTING DATA ROC SCORE === 0.6263734995383194  ,MAX DEPTH ===  19\n",
            "TRAINING DATA ACCURACY SCORE === 0.7636419147715708  ,MAX DEPTH ===  19\n",
            "TESTING DATA ACCURACY SCORE === 0.6112199630314233  ,MAX DEPTH ===  19\n"
          ],
          "name": "stdout"
        },
        {
          "output_type": "display_data",
          "data": {
            "image/png": "[encoded data removed]",
            "text/plain": [
              "<Figure size 432x288 with 2 Axes>"
            ]
          },
          "metadata": {
            "tags": [],
            "needs_background": "light"
          }
        },
        {
          "output_type": "stream",
          "text": [
            "==================================================\n",
            "TRAINING DATA ROC SCORE === 0.7649279277612271  ,MAX DEPTH ===  21\n",
            "TESTING DATA ROC SCORE === 0.6236923668821175  ,MAX DEPTH ===  21\n",
            "TRAINING DATA ACCURACY SCORE === 0.7649279277612272  ,MAX DEPTH ===  21\n",
            "TESTING DATA ACCURACY SCORE === 0.6095748613678373  ,MAX DEPTH ===  21\n"
          ],
          "name": "stdout"
        },
        {
          "output_type": "display_data",
          "data": {
            "image/png": "[encoded data removed]",
            "text/plain": [
              "<Figure size 432x288 with 2 Axes>"
            ]
          },
          "metadata": {
            "tags": [],
            "needs_background": "light"
          }
        },
        {
          "output_type": "stream",
          "text": [
            "==================================================\n",
            "TRAINING DATA ROC SCORE === 0.7653257591177395  ,MAX DEPTH ===  31\n",
            "TESTING DATA ROC SCORE === 0.6232753924284395  ,MAX DEPTH ===  31\n",
            "TRAINING DATA ACCURACY SCORE === 0.7653257591177396  ,MAX DEPTH ===  31\n",
            "TESTING DATA ACCURACY SCORE === 0.6093715341959335  ,MAX DEPTH ===  31\n"
          ],
          "name": "stdout"
        },
        {
          "output_type": "display_data",
          "data": {
            "image/png": "[encoded data removed]",
            "text/plain": [
              "<Figure size 432x288 with 2 Axes>"
            ]
          },
          "metadata": {
            "tags": [],
            "needs_background": "light"
          }
        },
        {
          "output_type": "stream",
          "text": [
            "==================================================\n",
            "TRAINING DATA ROC SCORE === 0.7653257591177395  ,MAX DEPTH ===  41\n",
            "TESTING DATA ROC SCORE === 0.6233166358879656  ,MAX DEPTH ===  41\n",
            "TRAINING DATA ACCURACY SCORE === 0.7653257591177396  ,MAX DEPTH ===  41\n",
            "TESTING DATA ACCURACY SCORE === 0.6095009242144177  ,MAX DEPTH ===  41\n"
          ],
          "name": "stdout"
        },
        {
          "output_type": "display_data",
          "data": {
            "image/png": "[encoded data removed]",
            "text/plain": [
              "<Figure size 432x288 with 2 Axes>"
            ]
          },
          "metadata": {
            "tags": [],
            "needs_background": "light"
          }
        },
        {
          "output_type": "stream",
          "text": [
            "==================================================\n",
            "TRAINING DATA ROC SCORE === 0.7653257591177395  ,MAX DEPTH ===  51\n",
            "TESTING DATA ROC SCORE === 0.6233030932594645  ,MAX DEPTH ===  51\n",
            "TRAINING DATA ACCURACY SCORE === 0.7653257591177396  ,MAX DEPTH ===  51\n",
            "TESTING DATA ACCURACY SCORE === 0.6094085027726432  ,MAX DEPTH ===  51\n"
          ],
          "name": "stdout"
        },
        {
          "output_type": "display_data",
          "data": {
            "image/png": "[encoded data removed]",
            "text/plain": [
              "<Figure size 432x288 with 2 Axes>"
            ]
          },
          "metadata": {
            "tags": [],
            "needs_background": "light"
          }
        },
        {
          "output_type": "stream",
          "text": [
            "==================================================\n",
            "TRAINING DATA ROC SCORE === 0.7653257591177395  ,MAX DEPTH ===  61\n",
            "TESTING DATA ROC SCORE === 0.6233306401969837  ,MAX DEPTH ===  61\n",
            "TRAINING DATA ACCURACY SCORE === 0.7653257591177396  ,MAX DEPTH ===  61\n",
            "TESTING DATA ACCURACY SCORE === 0.6094824399260629  ,MAX DEPTH ===  61\n"
          ],
          "name": "stdout"
        },
        {
          "output_type": "display_data",
          "data": {
            "image/png": "[encoded data removed]",
            "text/plain": [
              "<Figure size 432x288 with 2 Axes>"
            ]
          },
          "metadata": {
            "tags": [],
            "needs_background": "light"
          }
        },
        {
          "output_type": "stream",
          "text": [
            "==================================================\n",
            "TRAINING DATA ROC SCORE === 0.7653257591177395  ,MAX DEPTH ===  71\n",
            "TESTING DATA ROC SCORE === 0.6233447214527547  ,MAX DEPTH ===  71\n",
            "TRAINING DATA ACCURACY SCORE === 0.7653257591177396  ,MAX DEPTH ===  71\n",
            "TESTING DATA ACCURACY SCORE === 0.609445471349353  ,MAX DEPTH ===  71\n"
          ],
          "name": "stdout"
        },
        {
          "output_type": "display_data",
          "data": {
            "image/png": "[encoded data removed]",
            "text/plain": [
              "<Figure size 432x288 with 2 Axes>"
            ]
          },
          "metadata": {
            "tags": [],
            "needs_background": "light"
          }
        },
        {
          "output_type": "stream",
          "text": [
            "==================================================\n",
            "TRAINING DATA ROC SCORE === 0.7653257591177395  ,MAX DEPTH ===  81\n",
            "TESTING DATA ROC SCORE === 0.623302862419206  ,MAX DEPTH ===  81\n",
            "TRAINING DATA ACCURACY SCORE === 0.7653257591177396  ,MAX DEPTH ===  81\n",
            "TESTING DATA ACCURACY SCORE === 0.6094639556377079  ,MAX DEPTH ===  81\n"
          ],
          "name": "stdout"
        },
        {
          "output_type": "display_data",
          "data": {
            "image/png": "[encoded data removed]",
            "text/plain": [
              "<Figure size 432x288 with 2 Axes>"
            ]
          },
          "metadata": {
            "tags": [],
            "needs_background": "light"
          }
        },
        {
          "output_type": "stream",
          "text": [
            "==================================================\n",
            "TRAINING DATA ROC SCORE === 0.7653257591177395  ,MAX DEPTH ===  91\n",
            "TESTING DATA ROC SCORE === 0.6233031702062173  ,MAX DEPTH ===  91\n",
            "TRAINING DATA ACCURACY SCORE === 0.7653257591177396  ,MAX DEPTH ===  91\n",
            "TESTING DATA ACCURACY SCORE === 0.6093900184842883  ,MAX DEPTH ===  91\n"
          ],
          "name": "stdout"
        },
        {
          "output_type": "display_data",
          "data": {
            "image/png": "[encoded data removed]",
            "text/plain": [
              "<Figure size 432x288 with 2 Axes>"
            ]
          },
          "metadata": {
            "tags": [],
            "needs_background": "light"
          }
        },
        {
          "output_type": "stream",
          "text": [
            "==================================================\n"
          ],
          "name": "stdout"
        },
        {
          "output_type": "display_data",
          "data": {
            "image/png": "[encoded data removed]",
            "text/plain": [
              "<Figure size 1080x720 with 1 Axes>"
            ]
          },
          "metadata": {
            "tags": [],
            "needs_background": "light"
          }
        },
        {
          "output_type": "display_data",
          "data": {
            "image/png": "[encoded data removed]",
            "text/plain": [
              "<Figure size 1080x720 with 1 Axes>"
            ]
          },
          "metadata": {
            "tags": [],
            "needs_background": "light"
          }
        }
      ]
    },
    {
      "cell_type": "code",
      "metadata": {
        "id": "rCJwgouNxhFq"
      },
      "source": [
        ""
      ],
      "execution_count": null,
      "outputs": []
    },
    {
      "cell_type": "markdown",
      "metadata": {
        "id": "WwejCBR62fCL"
      },
      "source": [
        "<h1>Prediction"
      ]
    },
    {
      "cell_type": "code",
      "metadata": {
        "id": "9kZ39uDQ2iub"
      },
      "source": [
        "sample = pd.read_csv('/content/sample_submission_eyYijxG.csv')\n",
        "sample"
      ],
      "execution_count": null,
      "outputs": []
    },
    {
      "cell_type": "code",
      "metadata": {
        "colab": {
          "base_uri": "https://localhost:8080/",
          "height": 419
        },
        "id": "zkLOT_Ux2n0g",
        "outputId": "3acb318a-8e66-4426-8b93-4436ddb8fa2d"
      },
      "source": [
        "test_data = pd.read_csv('/content/test_mSzZ8RL.csv')\n",
        "test_data"
      ],
      "execution_count": 137,
      "outputs": [
        {
          "output_type": "execute_result",
          "data": {
            "text/html": [
              "<div>\n",
              "<style scoped>\n",
              "    .dataframe tbody tr th:only-of-type {\n",
              "        vertical-align: middle;\n",
              "    }\n",
              "\n",
              "    .dataframe tbody tr th {\n",
              "        vertical-align: top;\n",
              "    }\n",
              "\n",
              "    .dataframe thead th {\n",
              "        text-align: right;\n",
              "    }\n",
              "</style>\n",
              "<table border=\"1\" class=\"dataframe\">\n",
              "  <thead>\n",
              "    <tr style=\"text-align: right;\">\n",
              "      <th></th>\n",
              "      <th>ID</th>\n",
              "      <th>Gender</th>\n",
              "      <th>Age</th>\n",
              "      <th>Region_Code</th>\n",
              "      <th>Occupation</th>\n",
              "      <th>Channel_Code</th>\n",
              "      <th>Vintage</th>\n",
              "      <th>Credit_Product</th>\n",
              "      <th>Avg_Account_Balance</th>\n",
              "      <th>Is_Active</th>\n",
              "    </tr>\n",
              "  </thead>\n",
              "  <tbody>\n",
              "    <tr>\n",
              "      <th>0</th>\n",
              "      <td>VBENBARO</td>\n",
              "      <td>Male</td>\n",
              "      <td>29</td>\n",
              "      <td>RG254</td>\n",
              "      <td>Other</td>\n",
              "      <td>X1</td>\n",
              "      <td>25</td>\n",
              "      <td>Yes</td>\n",
              "      <td>742366</td>\n",
              "      <td>No</td>\n",
              "    </tr>\n",
              "    <tr>\n",
              "      <th>1</th>\n",
              "      <td>CCMEWNKY</td>\n",
              "      <td>Male</td>\n",
              "      <td>43</td>\n",
              "      <td>RG268</td>\n",
              "      <td>Other</td>\n",
              "      <td>X2</td>\n",
              "      <td>49</td>\n",
              "      <td>NaN</td>\n",
              "      <td>925537</td>\n",
              "      <td>No</td>\n",
              "    </tr>\n",
              "    <tr>\n",
              "      <th>2</th>\n",
              "      <td>VK3KGA9M</td>\n",
              "      <td>Male</td>\n",
              "      <td>31</td>\n",
              "      <td>RG270</td>\n",
              "      <td>Salaried</td>\n",
              "      <td>X1</td>\n",
              "      <td>14</td>\n",
              "      <td>No</td>\n",
              "      <td>215949</td>\n",
              "      <td>No</td>\n",
              "    </tr>\n",
              "    <tr>\n",
              "      <th>3</th>\n",
              "      <td>TT8RPZVC</td>\n",
              "      <td>Male</td>\n",
              "      <td>29</td>\n",
              "      <td>RG272</td>\n",
              "      <td>Other</td>\n",
              "      <td>X1</td>\n",
              "      <td>33</td>\n",
              "      <td>No</td>\n",
              "      <td>868070</td>\n",
              "      <td>No</td>\n",
              "    </tr>\n",
              "    <tr>\n",
              "      <th>4</th>\n",
              "      <td>SHQZEYTZ</td>\n",
              "      <td>Female</td>\n",
              "      <td>29</td>\n",
              "      <td>RG270</td>\n",
              "      <td>Other</td>\n",
              "      <td>X1</td>\n",
              "      <td>19</td>\n",
              "      <td>No</td>\n",
              "      <td>657087</td>\n",
              "      <td>No</td>\n",
              "    </tr>\n",
              "    <tr>\n",
              "      <th>...</th>\n",
              "      <td>...</td>\n",
              "      <td>...</td>\n",
              "      <td>...</td>\n",
              "      <td>...</td>\n",
              "      <td>...</td>\n",
              "      <td>...</td>\n",
              "      <td>...</td>\n",
              "      <td>...</td>\n",
              "      <td>...</td>\n",
              "      <td>...</td>\n",
              "    </tr>\n",
              "    <tr>\n",
              "      <th>105307</th>\n",
              "      <td>DBENJOYI</td>\n",
              "      <td>Male</td>\n",
              "      <td>52</td>\n",
              "      <td>RG268</td>\n",
              "      <td>Salaried</td>\n",
              "      <td>X2</td>\n",
              "      <td>86</td>\n",
              "      <td>Yes</td>\n",
              "      <td>4242558</td>\n",
              "      <td>Yes</td>\n",
              "    </tr>\n",
              "    <tr>\n",
              "      <th>105308</th>\n",
              "      <td>CWQ72DWS</td>\n",
              "      <td>Male</td>\n",
              "      <td>55</td>\n",
              "      <td>RG277</td>\n",
              "      <td>Other</td>\n",
              "      <td>X2</td>\n",
              "      <td>86</td>\n",
              "      <td>Yes</td>\n",
              "      <td>1159153</td>\n",
              "      <td>No</td>\n",
              "    </tr>\n",
              "    <tr>\n",
              "      <th>105309</th>\n",
              "      <td>HDESC8GU</td>\n",
              "      <td>Male</td>\n",
              "      <td>35</td>\n",
              "      <td>RG254</td>\n",
              "      <td>Salaried</td>\n",
              "      <td>X4</td>\n",
              "      <td>15</td>\n",
              "      <td>No</td>\n",
              "      <td>1703727</td>\n",
              "      <td>No</td>\n",
              "    </tr>\n",
              "    <tr>\n",
              "      <th>105310</th>\n",
              "      <td>2PW4SFCA</td>\n",
              "      <td>Male</td>\n",
              "      <td>53</td>\n",
              "      <td>RG254</td>\n",
              "      <td>Other</td>\n",
              "      <td>X3</td>\n",
              "      <td>93</td>\n",
              "      <td>No</td>\n",
              "      <td>737178</td>\n",
              "      <td>Yes</td>\n",
              "    </tr>\n",
              "    <tr>\n",
              "      <th>105311</th>\n",
              "      <td>F2NOYPPZ</td>\n",
              "      <td>Male</td>\n",
              "      <td>27</td>\n",
              "      <td>RG256</td>\n",
              "      <td>Salaried</td>\n",
              "      <td>X1</td>\n",
              "      <td>21</td>\n",
              "      <td>No</td>\n",
              "      <td>591565</td>\n",
              "      <td>No</td>\n",
              "    </tr>\n",
              "  </tbody>\n",
              "</table>\n",
              "<p>105312 rows × 10 columns</p>\n",
              "</div>"
            ],
            "text/plain": [
              "              ID  Gender  Age  ... Credit_Product Avg_Account_Balance Is_Active\n",
              "0       VBENBARO    Male   29  ...            Yes              742366        No\n",
              "1       CCMEWNKY    Male   43  ...            NaN              925537        No\n",
              "2       VK3KGA9M    Male   31  ...             No              215949        No\n",
              "3       TT8RPZVC    Male   29  ...             No              868070        No\n",
              "4       SHQZEYTZ  Female   29  ...             No              657087        No\n",
              "...          ...     ...  ...  ...            ...                 ...       ...\n",
              "105307  DBENJOYI    Male   52  ...            Yes             4242558       Yes\n",
              "105308  CWQ72DWS    Male   55  ...            Yes             1159153        No\n",
              "105309  HDESC8GU    Male   35  ...             No             1703727        No\n",
              "105310  2PW4SFCA    Male   53  ...             No              737178       Yes\n",
              "105311  F2NOYPPZ    Male   27  ...             No              591565        No\n",
              "\n",
              "[105312 rows x 10 columns]"
            ]
          },
          "metadata": {
            "tags": []
          },
          "execution_count": 137
        }
      ]
    },
    {
      "cell_type": "code",
      "metadata": {
        "id": "cv6yKCpx8nmV"
      },
      "source": [
        "sub_data = test_data.copy()"
      ],
      "execution_count": 138,
      "outputs": []
    },
    {
      "cell_type": "code",
      "metadata": {
        "colab": {
          "base_uri": "https://localhost:8080/"
        },
        "id": "Y_8iS4xxwEBN",
        "outputId": "40761278-b1e7-4e5d-ee9f-6ded84cf1ffa"
      },
      "source": [
        "Occupation_idf_sub"
      ],
      "execution_count": 159,
      "outputs": [
        {
          "output_type": "execute_result",
          "data": {
            "text/plain": [
              "array([5.86231706, 2.26785775, 2.1616744 , 1.92157884])"
            ]
          },
          "metadata": {
            "tags": []
          },
          "execution_count": 159
        }
      ]
    },
    {
      "cell_type": "code",
      "metadata": {
        "colab": {
          "base_uri": "https://localhost:8080/"
        },
        "id": "Xg72zU6cwTA0",
        "outputId": "53ff96da-4ccf-409d-865b-d57f87db53d7"
      },
      "source": [
        "Channel_Code_idf_sub"
      ],
      "execution_count": 164,
      "outputs": [
        {
          "output_type": "execute_result",
          "data": {
            "text/plain": [
              "array([1.76641992, 2.35710669, 2.36542324, 4.78681166])"
            ]
          },
          "metadata": {
            "tags": []
          },
          "execution_count": 164
        }
      ]
    },
    {
      "cell_type": "code",
      "metadata": {
        "colab": {
          "base_uri": "https://localhost:8080/"
        },
        "id": "YZZNbkBJwZUi",
        "outputId": "77f29809-cbe1-42d5-b547-a49bdee762c2"
      },
      "source": [
        "Is_Active_idf_sub"
      ],
      "execution_count": 163,
      "outputs": [
        {
          "output_type": "execute_result",
          "data": {
            "text/plain": [
              "array([1.47213651, 1.97726816])"
            ]
          },
          "metadata": {
            "tags": []
          },
          "execution_count": 163
        }
      ]
    },
    {
      "cell_type": "code",
      "metadata": {
        "id": "NXth-T5O8GD_"
      },
      "source": [
        "Occupation_sub, Occupation_features_sub, Occupation_idf_sub = tfidf(sub_data['Occupation'], X_tr['Occupation'])\n",
        "Channel_Code_sub, Channel_Code_features_sub, Channel_Code_idf_sub = tfidf(sub_data['Channel_Code'], X_tr['Channel_Code'])\n",
        "Is_Active_sub, Is_Active_features_sub, Is_Active_idf_sub = tfidf(sub_data['Is_Active'], X_tr['Is_Active'])\n",
        "\n",
        "\n",
        "age_normal_sub = normalize(sub_data, X_tr, 'Age')\n",
        "vin_normal_sub = normalize(sub_data, X_tr, 'Vintage')\n",
        "\n",
        "\n",
        "sub_data_vec = np.column_stack((\n",
        "                          Occupation_sub,\n",
        "                          Channel_Code_sub, \n",
        "                          Is_Active_sub,\n",
        "                          age_normal_sub,\n",
        "                          vin_normal_sub\n",
        "                         ))\n",
        "                        "
      ],
      "execution_count": 162,
      "outputs": []
    },
    {
      "cell_type": "code",
      "metadata": {
        "id": "_OEHTUKX7afV"
      },
      "source": [
        "pickle.dump(X_tr,open('/content/sample_data/X_tr.pkl','wb'))\n",
        "pickle.dump([scaler.mean_,scaler.var_],open('/content/sample_data/mean_var_age_and_vintage_list.pkl','wb'))"
      ],
      "execution_count": 230,
      "outputs": []
    },
    {
      "cell_type": "code",
      "metadata": {
        "id": "t_syR16Byh9u"
      },
      "source": [
        ""
      ],
      "execution_count": 187,
      "outputs": []
    },
    {
      "cell_type": "code",
      "metadata": {
        "id": "sJeQvhbp3_a7"
      },
      "source": [
        "from sklearn.preprocessing import StandardScaler\n",
        "scaler = StandardScaler()\n",
        "scaler.fit(x_uns_tr)\n",
        "sub_data_vec = scaler.transform(sub_data_vec)"
      ],
      "execution_count": 142,
      "outputs": []
    },
    {
      "cell_type": "markdown",
      "metadata": {
        "id": "DPQXSX_6q8s2"
      },
      "source": [
        "<h1>INFERENCE"
      ]
    },
    {
      "cell_type": "code",
      "metadata": {
        "id": "metzhrMIV7jx"
      },
      "source": [
        "sample_tree = sample.copy()"
      ],
      "execution_count": 143,
      "outputs": []
    },
    {
      "cell_type": "markdown",
      "metadata": {
        "id": "_zofgstvrCDY"
      },
      "source": [
        "<h3>Using GBDT"
      ]
    },
    {
      "cell_type": "code",
      "metadata": {
        "id": "xNVGsOSEXmG-"
      },
      "source": [
        "pred_test = gbdt_best.predict(sub_data_vec)\n",
        "sample_tree['Is_Lead'] = pred_test\n",
        "sample_tree.to_csv('/content/sample_data/gbdt_best_5.csv', index=False)"
      ],
      "execution_count": 149,
      "outputs": []
    },
    {
      "cell_type": "code",
      "metadata": {
        "colab": {
          "base_uri": "https://localhost:8080/"
        },
        "id": "DGTJaNianYjZ",
        "outputId": "906e46f9-a2ff-4771-dbd6-8688dfe6228f"
      },
      "source": [
        "pred_test = pd.DataFrame(pred_test,columns=['pred'])\n",
        "pred_test[pred_test['pred']==1].count()"
      ],
      "execution_count": 150,
      "outputs": [
        {
          "output_type": "execute_result",
          "data": {
            "text/plain": [
              "pred    64132\n",
              "dtype: int64"
            ]
          },
          "metadata": {
            "tags": []
          },
          "execution_count": 150
        }
      ]
    },
    {
      "cell_type": "markdown",
      "metadata": {
        "id": "mlwS52pkrGr_"
      },
      "source": [
        "<h3>Using Random Forest"
      ]
    },
    {
      "cell_type": "code",
      "metadata": {
        "id": "49gFM7i4m7Zw"
      },
      "source": [
        "pred_test = rf_best.predict(sub_data_vec)\n",
        "sample_tree['Is_Lead'] = pred_test\n",
        "sample_tree.to_csv('/content/sample_data/rf_best_5.csv', index=False)"
      ],
      "execution_count": 146,
      "outputs": []
    },
    {
      "cell_type": "code",
      "metadata": {
        "colab": {
          "base_uri": "https://localhost:8080/"
        },
        "id": "wd6fZD9WYsxH",
        "outputId": "124070e0-260c-4112-d4a8-18007cb4e481"
      },
      "source": [
        "pred_test = pd.DataFrame(pred_test,columns=['pred'])\n",
        "pred_test[pred_test['pred']==1].count()"
      ],
      "execution_count": null,
      "outputs": [
        {
          "output_type": "execute_result",
          "data": {
            "text/plain": [
              "pred    15404\n",
              "dtype: int64"
            ]
          },
          "metadata": {
            "tags": []
          },
          "execution_count": 55
        }
      ]
    },
    {
      "cell_type": "markdown",
      "metadata": {
        "id": "F6wZCjcwrLO6"
      },
      "source": [
        "<h3>Using Decision Tree Classifier"
      ]
    },
    {
      "cell_type": "code",
      "metadata": {
        "id": "pBkg3BaUqHRE"
      },
      "source": [
        "from sklearn.tree import DecisionTreeClassifier\n",
        "tree = DecisionTreeClassifier(max_depth=7)\n",
        "tree.fit(X,Y)\n",
        "pred_test = tree.predict(sub_data_vec)\n",
        "sample_tree['Is_Lead'] = pred_test\n",
        "sample_tree.to_csv('/content/sample_data/Dtree_5.csv', index=False)"
      ],
      "execution_count": 151,
      "outputs": []
    },
    {
      "cell_type": "code",
      "metadata": {
        "colab": {
          "base_uri": "https://localhost:8080/"
        },
        "id": "yqrxVLsmqqUB",
        "outputId": "afe52556-9a3c-4d4a-83fe-8b90cff882f5"
      },
      "source": [
        "pred_test = pd.DataFrame(pred_test,columns=['pred'])\n",
        "pred_test[pred_test['pred']==1].count()"
      ],
      "execution_count": 152,
      "outputs": [
        {
          "output_type": "execute_result",
          "data": {
            "text/plain": [
              "pred    65832\n",
              "dtype: int64"
            ]
          },
          "metadata": {
            "tags": []
          },
          "execution_count": 152
        }
      ]
    },
    {
      "cell_type": "markdown",
      "metadata": {
        "id": "Ab26XPJRs8k3"
      },
      "source": [
        "<h1>Saving Models to system"
      ]
    },
    {
      "cell_type": "code",
      "metadata": {
        "id": "9Gi03o5eqq5N"
      },
      "source": [
        "pickle.dump(rf_best,open('/content/sample_data/rf_best_model.pkl','wb'))\n",
        "pickle.dump(gbdt_best,open('/content/sample_data/gbdt_best_model.pkl','wb'))\n",
        "pickle.dump(tree,open('/content/sample_data/dtree_best_model.pkl','wb'))"
      ],
      "execution_count": 153,
      "outputs": []
    },
    {
      "cell_type": "markdown",
      "metadata": {
        "id": "R2FNhD_C9ddJ"
      },
      "source": [
        "<h1>User Input Inference"
      ]
    },
    {
      "cell_type": "code",
      "metadata": {
        "id": "4Bhz_SeltV_i"
      },
      "source": [
        "def predict(classifier,occupation,channel,is_active,age,vintage_month):\n",
        "  inp0 = pd.DataFrame([occupation],columns = ['Occupation'])\n",
        "  inp1 = pd.DataFrame([channel],columns = ['Channel_Code'])\n",
        "  inp2 = pd.DataFrame([is_active],columns = ['Is_Active'])\n",
        "\n",
        "\n",
        "  inp00,_,_ = tfidf(inp0['Occupation'], X_tr['Occupation'])\n",
        "  inp10,_,_ = tfidf(inp1['Channel_Code'], X_tr['Channel_Code'])\n",
        "  inp20,_,_ = tfidf(inp2['Is_Active'], X_tr['Is_Active'])\n",
        "\n",
        "  u_inp =  np.column_stack((\n",
        "                            inp00,\n",
        "                            inp10, \n",
        "                            inp20\n",
        "                          ))\n",
        "  u_inp_c = np.append(np.array(u_inp),[[age],[vintage_month]])\n",
        "  for i,mean in enumerate(scaler.mean_):\n",
        "    u_inp_c[i] -= mean /  np.sqrt(scaler.var_[i])\n",
        "\n",
        "  pred = classifier.predict(u_inp_c.reshape(-1,1).T)[0]\n",
        "\n",
        "  return pred"
      ],
      "execution_count": null,
      "outputs": []
    }
  ]
}